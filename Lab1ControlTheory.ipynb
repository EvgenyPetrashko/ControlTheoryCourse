{
  "nbformat": 4,
  "nbformat_minor": 0,
  "metadata": {
    "colab": {
      "name": "Lab1ControlTheory.ipynb",
      "provenance": [],
      "collapsed_sections": [],
      "authorship_tag": "ABX9TyM4Dyw4zBYOeNB4sq0HWY+4",
      "include_colab_link": true
    },
    "kernelspec": {
      "name": "python3",
      "display_name": "Python 3"
    }
  },
  "cells": [
    {
      "cell_type": "markdown",
      "metadata": {
        "id": "view-in-github",
        "colab_type": "text"
      },
      "source": [
        "<a href=\"https://colab.research.google.com/github/EvgenyPetrashko/ControlTheoryCourse/blob/main/Lab1ControlTheory.ipynb\" target=\"_parent\"><img src=\"https://colab.research.google.com/assets/colab-badge.svg\" alt=\"Open In Colab\"/></a>"
      ]
    },
    {
      "cell_type": "markdown",
      "metadata": {
        "id": "AiXW1JyZdNtm"
      },
      "source": [
        "# Tasks 1: ODE to State Space conversion\r\n",
        "\r\n",
        "Convert to State Space represantation, and to a state-space representation\r\n",
        "\r\n",
        "* $10 y^{(4)} -7  y^{(3)} + 2   \\ddot y + 0.5 \\dot y + 4y  = 15$\r\n",
        "* $5  y^{(4)} -17 y^{(3)} - 3   \\ddot y + 1.5 \\dot y + 2y  = 25$\r\n",
        "* $-3 y^{(4)}  22 y^{(3)} + 4   \\ddot y + 1.5 \\dot y + 1y  = 15$\r\n",
        "* $5  y^{(4)} -17 y^{(3)} - 1.5 \\ddot y + 100 \\dot y + 1.1y= 45$\r\n",
        "* $1.5y^{(4)} -23 y^{(3)} - 2.5 \\ddot y + 0.1 \\dot y + 100y= -10$\r\n",
        "\r\n",
        "Solution:\r\n",
        "\r\n",
        "1) $10 y^{(4)} -7  y^{(3)} + 2   \\ddot y + 0.5 \\dot y + 4y  = 15$\r\n",
        "\r\n",
        "$y^{(4)} = 0.7  y^{(3)} - 0.2   \\ddot y - 0.05 \\dot y - 0.4y  + 1.5$\r\n",
        "\r\n",
        "Substitution:\r\n",
        "\r\n",
        "$$x_4 = y^{(4-1)} \\\\\r\n",
        "  x_{4-1} = y^{(4-2)} \\\\\r\n",
        "  ... \\\\\r\n",
        "  x_1 = y$$\r\n",
        "\r\n",
        "$$\\dot x_1 = x_2 \\\\\r\n",
        "  \\dot x_2 = x_3 \\\\\r\n",
        "  ... \\\\\r\n",
        "\r\n",
        "\\dot x_4 = 0.7 x_4 - 0.2 x_3 - 0.05 x_2 - 0.4 x_1 + 1.5\r\n",
        "\r\n",
        "$$\r\n",
        "\r\n",
        "Finally, we write it in a matrix form.\r\n",
        "\r\n",
        "\\begin{align}\r\n",
        "    \\dot{x}(t) = \\begin{bmatrix}\r\n",
        "        0 & 1 & 0 &  0  \\\\\r\n",
        "        0 & 0 & 1 & 0  \\\\\r\n",
        "        0 & 0 & 0 & 1  \\\\\r\n",
        "        -0.4 & -0.05 & -0.2 & 0.7 \\\\     \r\n",
        "    \\end{bmatrix} x(t) + \r\n",
        "    \\begin{bmatrix}\r\n",
        "        0 \\\\\r\n",
        "        0\\\\\r\n",
        "        0\\\\\r\n",
        "        1.5 \\\\     \r\n",
        "    \\end{bmatrix}\r\n",
        "\r\n",
        "\\end{align}\r\n",
        "\r\n",
        "\r\n",
        "\r\n"
      ]
    }
  ]
}