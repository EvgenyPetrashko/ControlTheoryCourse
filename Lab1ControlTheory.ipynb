{
  "nbformat": 4,
  "nbformat_minor": 0,
  "metadata": {
    "colab": {
      "name": "Lab1ControlTheory.ipynb",
      "provenance": [],
      "collapsed_sections": [],
      "authorship_tag": "ABX9TyMErGYj/FWEQYzOHK0HJ4OC",
      "include_colab_link": true
    },
    "kernelspec": {
      "name": "python3",
      "display_name": "Python 3"
    }
  },
  "cells": [
    {
      "cell_type": "markdown",
      "metadata": {
        "id": "view-in-github",
        "colab_type": "text"
      },
      "source": [
        "<a href=\"https://colab.research.google.com/github/EvgenyPetrashko/ControlTheoryCourse/blob/main/Lab1ControlTheory.ipynb\" target=\"_parent\"><img src=\"https://colab.research.google.com/assets/colab-badge.svg\" alt=\"Open In Colab\"/></a>"
      ]
    },
    {
      "cell_type": "markdown",
      "metadata": {
        "id": "AiXW1JyZdNtm"
      },
      "source": [
        "# Tasks 1: ODE to State Space conversion\r\n",
        "\r\n",
        "Convert to State Space represantation, and to a state-space representation\r\n",
        "\r\n",
        "* $10 y^{(4)} -7  y^{(3)} + 2   \\ddot y + 0.5 \\dot y + 4y  = 15$\r\n",
        "* $5  y^{(4)} -17 y^{(3)} - 3   \\ddot y + 1.5 \\dot y + 2y  = 25$\r\n",
        "* $-3 y^{(4)} + 22 y^{(3)} + 4   \\ddot y + 1.5 \\dot y + 1y  = 15$\r\n",
        "* $5  y^{(4)} -17 y^{(3)} - 1.5 \\ddot y + 100 \\dot y + 1.1y= 45$\r\n",
        "* $1.5y^{(4)} -23 y^{(3)} - 2.5 \\ddot y + 0.1 \\dot y + 100y= -10$\r\n",
        "\r\n",
        "# Solution:\r\n",
        "\r\n",
        "1) $10 y^{(4)} -7  y^{(3)} + 2   \\ddot y + 0.5 \\dot y + 4y  = 15$\r\n",
        "\r\n",
        "$y^{(4)} = 0.7  y^{(3)} - 0.2   \\ddot y - 0.05 \\dot y - 0.4y  + 1.5$\r\n",
        "\r\n",
        "Substitution:\r\n",
        "\r\n",
        "$$x_4 = y^{(4-1)} \\\\\r\n",
        "  x_{4-1} = y^{(4-2)} \\\\\r\n",
        "  ... \\\\\r\n",
        "  x_1 = y$$\r\n",
        "\r\n",
        "$$\\dot x_1 = x_2 \\\\\r\n",
        "  \\dot x_2 = x_3 \\\\\r\n",
        "  ... \\\\\r\n",
        "\r\n",
        "\\dot x_4 = 0.7 x_4 - 0.2 x_3 - 0.05 x_2 - 0.4 x_1 + 1.5\r\n",
        "\r\n",
        "$$\r\n",
        "\r\n",
        "Finally, we write it in a matrix form.\r\n",
        "\r\n",
        "\\begin{align}\r\n",
        "    \\dot{x}(t) = \\begin{bmatrix}\r\n",
        "        0 & 1 & 0 &  0  \\\\\r\n",
        "        0 & 0 & 1 & 0  \\\\\r\n",
        "        0 & 0 & 0 & 1  \\\\\r\n",
        "        -0.4 & -0.05 & -0.2 & 0.7 \\\\     \r\n",
        "    \\end{bmatrix} x(t) + \r\n",
        "    \\begin{bmatrix}\r\n",
        "        0 \\\\\r\n",
        "        0\\\\\r\n",
        "        0\\\\\r\n",
        "        1.5 \\\\     \r\n",
        "    \\end{bmatrix}\r\n",
        "\r\n",
        "\\end{align}\r\n",
        "\r\n",
        "2) $5  y^{(4)} -17 y^{(3)} - 3   \\ddot y + 1.5 \\dot y + 2y  = 25$\r\n",
        "\r\n",
        "$y^{(4)} = 3.4  y^{(3)} + 0.6   \\ddot y - 0.3 \\dot y - 0.4y  + 5$\r\n",
        "\r\n",
        "Substitution:\r\n",
        "\r\n",
        "$$x_4 = y^{(4-1)} \\\\\r\n",
        "  x_{4-1} = y^{(4-2)} \\\\\r\n",
        "  ... \\\\\r\n",
        "  x_1 = y$$\r\n",
        "\r\n",
        "$$\\dot x_1 = x_2 \\\\\r\n",
        "  \\dot x_2 = x_3 \\\\\r\n",
        "  ... \\\\\r\n",
        "\r\n",
        "\\dot x_4 = 3.4 x_4 + 0.6 x_3 - 0.3 x_2 - 0.4 x_1 + 5\r\n",
        "\r\n",
        "$$\r\n",
        "\r\n",
        "Finally, we write it in a matrix form.\r\n",
        "\r\n",
        "\\begin{align}\r\n",
        "    \\dot{x}(t) = \\begin{bmatrix}\r\n",
        "        0 & 1 & 0 &  0  \\\\\r\n",
        "        0 & 0 & 1 & 0  \\\\\r\n",
        "        0 & 0 & 0 & 1  \\\\\r\n",
        "        -0.4 & -0.3 & 0.6 & 3.4 \\\\     \r\n",
        "    \\end{bmatrix} x(t) + \r\n",
        "    \\begin{bmatrix}\r\n",
        "        0 \\\\\r\n",
        "        0\\\\\r\n",
        "        0\\\\\r\n",
        "        5 \\\\     \r\n",
        "    \\end{bmatrix}\r\n",
        "\r\n",
        "\\end{align}\r\n",
        "\r\n",
        "3) $-3 y^{(4)} + 22 y^{(3)} + 4   \\ddot y + 1.5 \\dot y + 1y  = 15$\r\n",
        "\r\n",
        "$y^{(4)} = \\frac{22}{3}  y^{(3)} + \\frac{4}{3}   \\ddot y +0.5 \\dot y + \\frac{1}{3} y  - 5$\r\n",
        "\r\n",
        "Substitution:\r\n",
        "\r\n",
        "$$x_4 = y^{(4-1)} \\\\\r\n",
        "  x_{4-1} = y^{(4-2)} \\\\\r\n",
        "  ... \\\\\r\n",
        "  x_1 = y$$\r\n",
        "\r\n",
        "$$\\dot x_1 = x_2 \\\\\r\n",
        "  \\dot x_2 = x_3 \\\\\r\n",
        "  ... \\\\\r\n",
        "\r\n",
        "\\dot x_4 = \\frac{22}{3} x_4 + \\frac{4}{3} x_3 + 0.5 x_2 + \\frac{1}{3} x_1 - 5\r\n",
        "\r\n",
        "$$\r\n",
        "\r\n",
        "Finally, we write it in a matrix form.\r\n",
        "\r\n",
        "\\begin{align}\r\n",
        "    \\dot{x}(t) = \\begin{bmatrix}\r\n",
        "        0 & 1 & 0 &  0  \\\\\r\n",
        "        0 & 0 & 1 & 0  \\\\\r\n",
        "        0 & 0 & 0 & 1  \\\\\r\n",
        "        \\frac{1}{3} & 0.5 & \\frac{4}{3} & \\frac{22}{3} \\\\     \r\n",
        "    \\end{bmatrix} x(t) + \r\n",
        "    \\begin{bmatrix}\r\n",
        "        0 \\\\\r\n",
        "        0\\\\\r\n",
        "        0\\\\\r\n",
        "        -5 \\\\     \r\n",
        "    \\end{bmatrix}\r\n",
        "\r\n",
        "\\end{align}\r\n",
        "\r\n",
        "4) $5  y^{(4)} -17 y^{(3)} - 1.5 \\ddot y + 100 \\dot y + 1.1y= 45$\r\n",
        "\r\n",
        "$y^{(4)} = 3.4  y^{(3)} + 0.3   \\ddot y - 20 \\dot y - 0.22y  + 9$\r\n",
        "\r\n",
        "Substitution:\r\n",
        "\r\n",
        "$$x_4 = y^{(4-1)} \\\\\r\n",
        "  x_{4-1} = y^{(4-2)} \\\\\r\n",
        "  ... \\\\\r\n",
        "  x_1 = y$$\r\n",
        "\r\n",
        "$$\\dot x_1 = x_2 \\\\\r\n",
        "  \\dot x_2 = x_3 \\\\\r\n",
        "  ... \\\\\r\n",
        "\r\n",
        "\\dot x_4 = 3.4 x_4 + 0.3 x_3 - 20 x_2 - 0.22 x_1 + 9\r\n",
        "\r\n",
        "$$\r\n",
        "\r\n",
        "Finally, we write it in a matrix form.\r\n",
        "\r\n",
        "\\begin{align}\r\n",
        "    \\dot{x}(t) = \\begin{bmatrix}\r\n",
        "        0 & 1 & 0 &  0  \\\\\r\n",
        "        0 & 0 & 1 & 0  \\\\\r\n",
        "        0 & 0 & 0 & 1  \\\\\r\n",
        "        -0.22 & -20 & 0.3 & 3.4 \\\\     \r\n",
        "    \\end{bmatrix} x(t) + \r\n",
        "    \\begin{bmatrix}\r\n",
        "        0 \\\\\r\n",
        "        0\\\\\r\n",
        "        0\\\\\r\n",
        "        9 \\\\     \r\n",
        "    \\end{bmatrix}\r\n",
        "\r\n",
        "\\end{align}\r\n",
        "\r\n",
        "5) $1.5y^{(4)} -23 y^{(3)} - 2.5 \\ddot y + 0.1 \\dot y + 100y= -10$\r\n",
        "\r\n",
        "$y^{(4)} = \\frac{46}{3}  y^{(3)} + \\frac{5}{3}   \\ddot y -\\frac{1}{15} \\dot y -\\frac{200}{3}y  -\\frac{20}{3}$\r\n",
        "\r\n",
        "Substitution:\r\n",
        "\r\n",
        "$$x_4 = y^{(4-1)} \\\\\r\n",
        "  x_{4-1} = y^{(4-2)} \\\\\r\n",
        "  ... \\\\\r\n",
        "  x_1 = y$$\r\n",
        "\r\n",
        "$$\\dot x_1 = x_2 \\\\\r\n",
        "  \\dot x_2 = x_3 \\\\\r\n",
        "  ... \\\\\r\n",
        "\r\n",
        "\\dot x_4 = \\frac{46}{3} x_4 + \\frac{5}{3} x_3 - \\frac{1}{15} x_2 - \\frac{200}{3} x_1 - \\frac{20}{3}\r\n",
        "\r\n",
        "$$\r\n",
        "\r\n",
        "Finally, we write it in a matrix form.\r\n",
        "\r\n",
        "\\begin{align}\r\n",
        "    \\dot{x}(t) = \\begin{bmatrix}\r\n",
        "        0 & 1 & 0 &  0  \\\\\r\n",
        "        0 & 0 & 1 & 0  \\\\\r\n",
        "        0 & 0 & 0 & 1  \\\\\r\n",
        "        -\\frac{200}{3} & -\\frac{1}{15} & \\frac{5}{3} & \\frac{46}{3} \\\\     \r\n",
        "    \\end{bmatrix} x(t) + \r\n",
        "    \\begin{bmatrix}\r\n",
        "        0 \\\\\r\n",
        "        0\\\\\r\n",
        "        0\\\\\r\n",
        "        -\\frac{20}{3} \\\\     \r\n",
        "    \\end{bmatrix}\r\n",
        "\r\n",
        "\\end{align}\r\n"
      ]
    },
    {
      "cell_type": "markdown",
      "metadata": {
        "id": "kKQ-H30VpgcA"
      },
      "source": [
        "# Tasks 2: solving ODE\r\n",
        "\r\n",
        "## Subtask 2.1, convert to state space and simulate and if it diverges, try to change so it will converge\r\n",
        "\r\n",
        "* $10 y^{(5)} + 10 y^{(4)} -7  y^{(3)} + 2   \\ddot y + 0.5 \\dot y + 4y  = 0$\r\n",
        "* $1 y^{(5)} + 5  y^{(4)} -17 y^{(3)} - 3   \\ddot y + 1.5 \\dot y + 2y  = 0$\r\n",
        "* $6 y^{(5)} -3 y^{(4)}  22 y^{(3)} + 4   \\ddot y + 1.5 \\dot y + 1y  = 0$\r\n",
        "* $22 y^{(5)} + 5  y^{(4)} -17 y^{(3)} - 1.5 \\ddot y + 100 \\dot y + 1.1y= 0$\r\n",
        "* $-10 y^{(5)} + 1.5y^{(4)} -23 y^{(3)} - 2.5 \\ddot y + 0.1 \\dot y + 100y= 0$\r\n",
        "\r\n",
        "#Solution:\r\n",
        "\r\n",
        "1) $10 y^{(5)} + 10 y^{(4)} -7  y^{(3)} + 2   \\ddot y + 0.5 \\dot y + 4y  = 0$\r\n",
        "\r\n",
        "$y^{(5)} = -  y^{(4)} + 0.7 y^{(3)} - 0.2 \\ddot y - 0.05\\dot y -0.4y $\r\n",
        "\r\n",
        "Substitution:\r\n",
        "\r\n",
        "$$x_5 = y^{(5-1)} \\\\\r\n",
        "  x_{5-1} = y^{(5-2)} \\\\\r\n",
        "  ... \\\\\r\n",
        "  x_1 = y$$\r\n",
        "\r\n",
        "$$\\dot x_1 = x_2 \\\\\r\n",
        "  \\dot x_2 = x_3 \\\\\r\n",
        "  ... \\\\\r\n",
        "\r\n",
        "\\dot x_5 = - x_5 + 0.7 x_4 - 0.2 x_3 - 0.05 x_2 - 0.4x_1\r\n",
        "\r\n",
        "$$\r\n",
        "\r\n",
        "Finally, we write it in a matrix form.\r\n",
        "\r\n",
        "\\begin{align}\r\n",
        "    \\dot{x}(t) = \\begin{bmatrix}\r\n",
        "        0 & 1 & 0 & 0 & 0 \\\\\r\n",
        "        0 & 0 & 1 & 0 & 0 \\\\\r\n",
        "        0 & 0 & 0 & 1 & 0 \\\\\r\n",
        "        0 & 0 & 0 & 0 & 1 \\\\\r\n",
        "        -0.4 & -0.05 & -0.2 & 0.7 & -1\\\\     \r\n",
        "    \\end{bmatrix} x(t) + \r\n",
        "    \\begin{bmatrix}\r\n",
        "        0 \\\\\r\n",
        "        0\\\\\r\n",
        "        0\\\\\r\n",
        "        0 \\\\\r\n",
        "        0 \\\\     \r\n",
        "    \\end{bmatrix}\r\n",
        "\r\n",
        "\\end{align}"
      ]
    },
    {
      "cell_type": "code",
      "metadata": {
        "colab": {
          "base_uri": "https://localhost:8080/",
          "height": 279
        },
        "id": "1frh1GFps2yY",
        "outputId": "688b3e25-9f92-4e85-abc2-3d73781dd92f"
      },
      "source": [
        "import numpy as np\r\n",
        "from scipy.integrate import odeint\r\n",
        "import matplotlib.pyplot as plt\r\n",
        "\r\n",
        "n = 5\r\n",
        "A = np.array([[0, 1, 0, 0, 0], [0, 0, 1, 0, 0], [0, 0, 0, 1, 0], [0, 0, 0, 0, 1], [-0.4, -0.05, -0.2, 0.7, -1]])\r\n",
        "B = np.array([0, 0, 0, 0, 0])\r\n",
        "# x_dot from state space\r\n",
        "def StateSpace(x, t):\r\n",
        "    return A.dot(x) + B\r\n",
        "    \r\n",
        "\r\n",
        "time = np.linspace(0, 1, 1000)   \r\n",
        "x0 = np.array([1, 1, 1, 1, 1])\r\n",
        "\r\n",
        "solution = {\"SS\": odeint(StateSpace, x0, time)}\r\n",
        "\r\n",
        "plt.subplot(121)\r\n",
        "plt.plot(time, solution[\"SS\"])\r\n",
        "plt.xlabel('time')\r\n",
        "plt.ylabel('x(t)')\r\n",
        "\r\n",
        "plt.show()"
      ],
      "execution_count": 62,
      "outputs": [
        {
          "output_type": "display_data",
          "data": {
            "image/png": "[encoded data removed]",
            "text/plain": [
              "<Figure size 432x288 with 1 Axes>"
            ]
          },
          "metadata": {
            "tags": [],
            "needs_background": "light"
          }
        }
      ]
    },
    {
      "cell_type": "markdown",
      "metadata": {
        "id": "Y51WtLo46O2P"
      },
      "source": [
        "2)  $1 y^{(5)} + 5  y^{(4)} -17 y^{(3)} - 3   \\ddot y + 1.5 \\dot y + 2y  = 0$\r\n",
        "\r\n",
        "$y^{(5)} = -  5y^{(4)} + 17 y^{(3)} + 3 \\ddot y - 1.5\\dot y -2y $\r\n",
        "\r\n",
        "Substitution:\r\n",
        "\r\n",
        "$$x_5 = y^{(5-1)} \\\\\r\n",
        "  x_{5-1} = y^{(5-2)} \\\\\r\n",
        "  ... \\\\\r\n",
        "  x_1 = y$$\r\n",
        "\r\n",
        "$$\\dot x_1 = x_2 \\\\\r\n",
        "  \\dot x_2 = x_3 \\\\\r\n",
        "  ... \\\\\r\n",
        "\r\n",
        "\\dot x_5 = -5 x_5 + 17 x_4 + 3 x_3 - 1.5 x_2 - 2x_1\r\n",
        "\r\n",
        "$$\r\n",
        "\r\n",
        "Finally, we write it in a matrix form.\r\n",
        "\r\n",
        "\\begin{align}\r\n",
        "    \\dot{x}(t) = \\begin{bmatrix}\r\n",
        "        0 & 1 & 0 & 0 & 0 \\\\\r\n",
        "        0 & 0 & 1 & 0 & 0 \\\\\r\n",
        "        0 & 0 & 0 & 1 & 0 \\\\\r\n",
        "        0 & 0 & 0 & 0 & 1 \\\\\r\n",
        "        -2 & -1.5 & 3 & 17 & -5\\\\     \r\n",
        "    \\end{bmatrix} x(t) + \r\n",
        "    \\begin{bmatrix}\r\n",
        "        0 \\\\\r\n",
        "        0\\\\\r\n",
        "        0\\\\\r\n",
        "        0 \\\\\r\n",
        "        0 \\\\     \r\n",
        "    \\end{bmatrix}\r\n",
        "\r\n",
        "\\end{align}"
      ]
    },
    {
      "cell_type": "code",
      "metadata": {
        "colab": {
          "base_uri": "https://localhost:8080/",
          "height": 279
        },
        "id": "MFUdZ1k665c8",
        "outputId": "8c094d31-7a13-467e-b106-f5bd44d07d6a"
      },
      "source": [
        "import numpy as np\r\n",
        "from scipy.integrate import odeint\r\n",
        "import matplotlib.pyplot as plt\r\n",
        "\r\n",
        "n = 5\r\n",
        "A = np.array([[0, 1, 0, 0, 0], [0, 0, 1, 0, 0], [0, 0, 0, 1, 0], [0, 0, 0, 0, 1], [-2, -1.5, 3, 17, -5]])\r\n",
        "B = np.array([0, 0, 0, 0, 0])\r\n",
        "# x_dot from state space\r\n",
        "def StateSpace(x, t):\r\n",
        "    return A.dot(x) + B\r\n",
        "    \r\n",
        "\r\n",
        "time = np.linspace(0, 1, 1000)   \r\n",
        "x0 = np.array([1, 1, 1, 1, 1])\r\n",
        "\r\n",
        "solution = {\"SS\": odeint(StateSpace, x0, time)}\r\n",
        "\r\n",
        "plt.subplot(121)\r\n",
        "plt.plot(time, solution[\"SS\"])\r\n",
        "plt.xlabel('time')\r\n",
        "plt.ylabel('x(t)')\r\n",
        "\r\n",
        "plt.show()"
      ],
      "execution_count": 58,
      "outputs": [
        {
          "output_type": "display_data",
          "data": {
            "image/png": "[encoded data removed]",
            "text/plain": [
              "<Figure size 432x288 with 1 Axes>"
            ]
          },
          "metadata": {
            "tags": [],
            "needs_background": "light"
          }
        }
      ]
    },
    {
      "cell_type": "markdown",
      "metadata": {
        "id": "B7BrCYFP7Vx9"
      },
      "source": [
        "3)  $6 y^{(5)} -3 y^{(4)}  + 22 y^{(3)} + 4   \\ddot y + 1.5 \\dot y + 1y  = 0$\r\n",
        "\r\n",
        "$y^{(5)} =  0.5y^{(4)} - \\frac{11}{3} y^{(3)} - \\frac{2}{3} \\ddot y - 0.25\\dot y -\\frac{1}{6} y $\r\n",
        "\r\n",
        "Substitution:\r\n",
        "\r\n",
        "$$x_5 = y^{(5-1)} \\\\\r\n",
        "  x_{5-1} = y^{(5-2)} \\\\\r\n",
        "  ... \\\\\r\n",
        "  x_1 = y$$\r\n",
        "\r\n",
        "$$\\dot x_1 = x_2 \\\\\r\n",
        "  \\dot x_2 = x_3 \\\\\r\n",
        "  ... \\\\\r\n",
        "\r\n",
        "\\dot x_5 = 0.5 x_5 - \\frac{11}{3} x_4 -\\frac{2}{3} x_3 - 0.25 x_2 - \\frac{1}{6} x_1\r\n",
        "\r\n",
        "$$\r\n",
        "\r\n",
        "Finally, we write it in a matrix form.\r\n",
        "\r\n",
        "\\begin{align}\r\n",
        "    \\dot{x}(t) = \\begin{bmatrix}\r\n",
        "        0 & 1 & 0 & 0 & 0 \\\\\r\n",
        "        0 & 0 & 1 & 0 & 0 \\\\\r\n",
        "        0 & 0 & 0 & 1 & 0 \\\\\r\n",
        "        0 & 0 & 0 & 0 & 1 \\\\\r\n",
        "        -\\frac{1}{6} & -0.25 & -\\frac{2}{3} & -\\frac{11}{3} & 0.5\\\\     \r\n",
        "    \\end{bmatrix} x(t) + \r\n",
        "    \\begin{bmatrix}\r\n",
        "        0 \\\\\r\n",
        "        0\\\\\r\n",
        "        0\\\\\r\n",
        "        0 \\\\\r\n",
        "        0 \\\\     \r\n",
        "    \\end{bmatrix}\r\n",
        "\r\n",
        "\\end{align}"
      ]
    },
    {
      "cell_type": "code",
      "metadata": {
        "colab": {
          "base_uri": "https://localhost:8080/",
          "height": 279
        },
        "id": "kg6maB618ZtF",
        "outputId": "67364abd-f71b-456b-b135-14f646e454ee"
      },
      "source": [
        "import numpy as np\r\n",
        "from scipy.integrate import odeint\r\n",
        "import matplotlib.pyplot as plt\r\n",
        "\r\n",
        "n = 5\r\n",
        "A = np.array([[0, 1, 0, 0, 0], [0, 0, 1, 0, 0], [0, 0, 0, 1, 0], [0, 0, 0, 0, 1], [-1/6, -0.25, -2/3, -11/3, 0.5]])\r\n",
        "B = np.array([0, 0, 0, 0, 0])\r\n",
        "# x_dot from state space\r\n",
        "def StateSpace(x, t):\r\n",
        "    return A.dot(x) + B\r\n",
        "    \r\n",
        "\r\n",
        "time = np.linspace(0, 1, 1000)   \r\n",
        "x0 = np.array([1, 1, 1, 1, 1])\r\n",
        "\r\n",
        "solution = {\"SS\": odeint(StateSpace, x0, time)}\r\n",
        "\r\n",
        "plt.subplot(121)\r\n",
        "plt.plot(time, solution[\"SS\"])\r\n",
        "plt.xlabel('time')\r\n",
        "plt.ylabel('x(t)')\r\n",
        "\r\n",
        "plt.show()"
      ],
      "execution_count": 59,
      "outputs": [
        {
          "output_type": "display_data",
          "data": {
            "image/png": "[encoded data removed]",
            "text/plain": [
              "<Figure size 432x288 with 1 Axes>"
            ]
          },
          "metadata": {
            "tags": [],
            "needs_background": "light"
          }
        }
      ]
    },
    {
      "cell_type": "markdown",
      "metadata": {
        "id": "d7GeNu7T8tP3"
      },
      "source": [
        "4)  $22 y^{(5)} + 5  y^{(4)} -17 y^{(3)} - 1.5 \\ddot y + 100 \\dot y + 1.1y= 0$\r\n",
        "\r\n",
        "$y^{(5)} = -\\frac{5}{22}y^{(4)} + \\frac{17}{22} y^{(3)} + \\frac{3}{44} \\ddot y - \\frac{50}{11}\\dot y -0.05y $\r\n",
        "\r\n",
        "Substitution:\r\n",
        "\r\n",
        "$$x_5 = y^{(5-1)} \\\\\r\n",
        "  x_{5-1} = y^{(5-2)} \\\\\r\n",
        "  ... \\\\\r\n",
        "  x_1 = y$$\r\n",
        "\r\n",
        "$$\\dot x_1 = x_2 \\\\\r\n",
        "  \\dot x_2 = x_3 \\\\\r\n",
        "  ... \\\\\r\n",
        "\r\n",
        "\\dot x_5 = -\\frac{5}{22} x_5 + \\frac{17}{22} x_4 + \\frac{3}{44} x_3 - \\frac{50}{11} x_2 - 0.05x_1\r\n",
        "\r\n",
        "$$\r\n",
        "\r\n",
        "Finally, we write it in a matrix form.\r\n",
        "\r\n",
        "\\begin{align}\r\n",
        "    \\dot{x}(t) = \\begin{bmatrix}\r\n",
        "        0 & 1 & 0 & 0 & 0 \\\\\r\n",
        "        0 & 0 & 1 & 0 & 0 \\\\\r\n",
        "        0 & 0 & 0 & 1 & 0 \\\\\r\n",
        "        0 & 0 & 0 & 0 & 1 \\\\\r\n",
        "        -0.05 & -\\frac{50}{11} & \\frac{3}{44} & \\frac{17}{22} & -\\frac{5}{22}\\\\     \r\n",
        "    \\end{bmatrix} x(t) + \r\n",
        "    \\begin{bmatrix}\r\n",
        "        0 \\\\\r\n",
        "        0\\\\\r\n",
        "        0\\\\\r\n",
        "        0 \\\\\r\n",
        "        0 \\\\     \r\n",
        "    \\end{bmatrix}\r\n",
        "\r\n",
        "\\end{align}"
      ]
    },
    {
      "cell_type": "code",
      "metadata": {
        "colab": {
          "base_uri": "https://localhost:8080/",
          "height": 279
        },
        "id": "5prrV-vS-FAc",
        "outputId": "8b89f7a2-97d6-431f-831e-c0bc3d7e40e1"
      },
      "source": [
        "import numpy as np\r\n",
        "from scipy.integrate import odeint\r\n",
        "import matplotlib.pyplot as plt\r\n",
        "\r\n",
        "n = 5\r\n",
        "A = np.array([[0, 1, 0, 0, 0], [0, 0, 1, 0, 0], [0, 0, 0, 1, 0], [0, 0, 0, 0, 1], [-0.05, -50/11, 3/44, 17/22, -5/22]])\r\n",
        "B = np.array([0, 0, 0, 0, 0])\r\n",
        "# x_dot from state space\r\n",
        "def StateSpace(x, t):\r\n",
        "    return A.dot(x) + B\r\n",
        "    \r\n",
        "\r\n",
        "time = np.linspace(0, 1, 1000)   \r\n",
        "x0 = np.array([1, 1, 1, 1, 1])\r\n",
        "\r\n",
        "solution = {\"SS\": odeint(StateSpace, x0, time)}\r\n",
        "\r\n",
        "plt.subplot(121)\r\n",
        "plt.plot(time, solution[\"SS\"])\r\n",
        "plt.xlabel('time')\r\n",
        "plt.ylabel('x(t)')\r\n",
        "\r\n",
        "plt.show()"
      ],
      "execution_count": 60,
      "outputs": [
        {
          "output_type": "display_data",
          "data": {
            "image/png": "[encoded data removed]",
            "text/plain": [
              "<Figure size 432x288 with 1 Axes>"
            ]
          },
          "metadata": {
            "tags": [],
            "needs_background": "light"
          }
        }
      ]
    },
    {
      "cell_type": "markdown",
      "metadata": {
        "id": "K6nltVJG-xgR"
      },
      "source": [
        "5) $-10 y^{(5)} + 1.5y^{(4)} -23 y^{(3)} - 2.5 \\ddot y + 0.1 \\dot y + 100y= 0$\r\n",
        "\r\n",
        "$y^{(5)} = 0.15 y^{(4)} - 2.3 y^{(3)} - 0.25 \\ddot y + 0.01\\dot y + 10y $\r\n",
        "\r\n",
        "Substitution:\r\n",
        "\r\n",
        "$$x_5 = y^{(5-1)} \\\\\r\n",
        "  x_{5-1} = y^{(5-2)} \\\\\r\n",
        "  ... \\\\\r\n",
        "  x_1 = y$$\r\n",
        "\r\n",
        "$$\\dot x_1 = x_2 \\\\\r\n",
        "  \\dot x_2 = x_3 \\\\\r\n",
        "  ... \\\\\r\n",
        "\r\n",
        "\\dot x_5 = 0.15x_5 -2.3 x_4 - 0.25 x_3 + 0.01 x_2 + 10x_1\r\n",
        "\r\n",
        "$$\r\n",
        "\r\n",
        "Finally, we write it in a matrix form.\r\n",
        "\r\n",
        "\\begin{align}\r\n",
        "    \\dot{x}(t) = \\begin{bmatrix}\r\n",
        "        0 & 1 & 0 & 0 & 0 \\\\\r\n",
        "        0 & 0 & 1 & 0 & 0 \\\\\r\n",
        "        0 & 0 & 0 & 1 & 0 \\\\\r\n",
        "        0 & 0 & 0 & 0 & 1 \\\\\r\n",
        "        10 & 0.01 & -0.25 & -2.3 & 0.15\\\\     \r\n",
        "    \\end{bmatrix} x(t) + \r\n",
        "    \\begin{bmatrix}\r\n",
        "        0 \\\\\r\n",
        "        0\\\\\r\n",
        "        0\\\\\r\n",
        "        0 \\\\\r\n",
        "        0 \\\\     \r\n",
        "    \\end{bmatrix}\r\n",
        "\r\n",
        "\\end{align}"
      ]
    },
    {
      "cell_type": "code",
      "metadata": {
        "colab": {
          "base_uri": "https://localhost:8080/",
          "height": 280
        },
        "id": "UpDRQNQ4_138",
        "outputId": "98012a94-5f9b-4c09-ad1e-79a6ab901aea"
      },
      "source": [
        "import numpy as np\r\n",
        "from scipy.integrate import odeint\r\n",
        "import matplotlib.pyplot as plt\r\n",
        "\r\n",
        "n = 5\r\n",
        "A = np.array([[0, 1, 0, 0, 0], [0, 0, 1, 0, 0], [0, 0, 0, 1, 0], [0, 0, 0, 0, 1], [10, 0.01, -0.25, -2.3, 0.15]])\r\n",
        "B = np.array([0, 0, 0, 0, 0])\r\n",
        "# x_dot from state space\r\n",
        "def StateSpace(x, t):\r\n",
        "    return A.dot(x) + B\r\n",
        "    \r\n",
        "\r\n",
        "time = np.linspace(0, 1, 1000)   \r\n",
        "x0 = np.array([1, 1, 1, 1, 1])\r\n",
        "\r\n",
        "solution = {\"SS\": odeint(StateSpace, x0, time)}\r\n",
        "\r\n",
        "plt.subplot(121)\r\n",
        "plt.plot(time, solution[\"SS\"])\r\n",
        "plt.xlabel('time')\r\n",
        "plt.ylabel('x(t)')\r\n",
        "\r\n",
        "plt.show()"
      ],
      "execution_count": 61,
      "outputs": [
        {
          "output_type": "display_data",
          "data": {
            "image/png": "[encoded data removed]",
            "text/plain": [
              "<Figure size 432x288 with 1 Axes>"
            ]
          },
          "metadata": {
            "tags": [],
            "needs_background": "light"
          }
        }
      ]
    },
    {
      "cell_type": "markdown",
      "metadata": {
        "id": "pv4R7yxNCnrC"
      },
      "source": [
        "## Subtask 2.3, solve\r\n",
        "* $10 y^{(5)} + 10 y^{(4)} -7  y^{(3)} + 2   \\ddot y + 0.5 \\dot y + 4y  = \\sin(t)$\r\n",
        "* $1 y^{(5)} + 5  y^{(4)} -17 y^{(3)} - 3   \\ddot y + 1.5 \\dot y + 2y  = \\sin(t)$\r\n",
        "* $6 y^{(5)} -3 y^{(4)}  22 y^{(3)} + 4   \\ddot y + 1.5 \\dot y + 1y  = \\sin(t)$\r\n",
        "* $22 y^{(5)} + 5  y^{(4)} -17 y^{(3)} - 1.5 \\ddot y + 100 \\dot y + 1.1y= \\sin(t)$\r\n",
        "* $-10 y^{(5)} + 1.5y^{(4)} -23 y^{(3)} - 2.5 \\ddot y + 0.1 \\dot y + 100y= \\sin(t)$\r\n",
        "\r\n",
        "Since we already solve the same ODE's we can just change the constant term in state space equations:\r\n",
        "\r\n",
        "1) $10 y^{(5)} + 10 y^{(4)} -7  y^{(3)} + 2   \\ddot y + 0.5 \\dot y + 4y  = \\sin(t)$\r\n",
        "\r\n",
        "$$\r\n",
        "\\dot x_5 = - x_5 + 0.7 x_4 - 0.2 x_3 - 0.05 x_2 - 0.4x_1 + 0.1\\sin(t)$$\r\n",
        "Finally, we write it in a matrix form.\r\n",
        "\r\n",
        "\\begin{align}\r\n",
        "    \\dot{x}(t) = \\begin{bmatrix}\r\n",
        "        0 & 1 & 0 & 0 & 0 \\\\\r\n",
        "        0 & 0 & 1 & 0 & 0 \\\\\r\n",
        "        0 & 0 & 0 & 1 & 0 \\\\\r\n",
        "        0 & 0 & 0 & 0 & 1 \\\\\r\n",
        "        -0.4 & -0.05 & -0.2 & 0.7 & -1\\\\     \r\n",
        "    \\end{bmatrix} x(t) + \r\n",
        "    \\begin{bmatrix}\r\n",
        "        0 \\\\\r\n",
        "        0\\\\\r\n",
        "        0\\\\\r\n",
        "        0 \\\\\r\n",
        "        0.1\\sin(t) \\\\     \r\n",
        "    \\end{bmatrix}\r\n",
        "\r\n",
        "\\end{align}"
      ]
    },
    {
      "cell_type": "code",
      "metadata": {
        "colab": {
          "base_uri": "https://localhost:8080/",
          "height": 279
        },
        "id": "h3Gqt-3CELW-",
        "outputId": "736b57ae-d771-4203-dccb-8f2f342d4afd"
      },
      "source": [
        "import numpy as np\r\n",
        "from scipy.integrate import odeint\r\n",
        "import matplotlib.pyplot as plt\r\n",
        "\r\n",
        "n = 5\r\n",
        "A = np.array([[0, 1, 0, 0, 0], [0, 0, 1, 0, 0], [0, 0, 0, 1, 0], [0, 0, 0, 0, 1], [-0.4, -0.05, -0.2, 0.7, -1]])\r\n",
        "B = np.array([0, 0, 0, 0, 0.1])\r\n",
        "# x_dot from state space\r\n",
        "def StateSpace(x, t):\r\n",
        "    return A.dot(x) + B*np.sin(t)\r\n",
        "    \r\n",
        "\r\n",
        "time = np.linspace(0, 1, 1000)   \r\n",
        "x0 = np.array([1, 1, 1, 1, 1])\r\n",
        "\r\n",
        "solution = {\"SS\": odeint(StateSpace, x0, time)}\r\n",
        "\r\n",
        "plt.subplot(121)\r\n",
        "plt.plot(time, solution[\"SS\"])\r\n",
        "plt.xlabel('time')\r\n",
        "plt.ylabel('x(t)')\r\n",
        "\r\n",
        "plt.show()"
      ],
      "execution_count": 1,
      "outputs": [
        {
          "output_type": "display_data",
          "data": {
            "image/png": "[encoded data removed]",
            "text/plain": [
              "<Figure size 432x288 with 1 Axes>"
            ]
          },
          "metadata": {
            "tags": [],
            "needs_background": "light"
          }
        }
      ]
    },
    {
      "cell_type": "markdown",
      "metadata": {
        "id": "tRo7caVVEoDW"
      },
      "source": [
        "$2) 1 y^{(5)} + 5  y^{(4)} -17 y^{(3)} - 3   \\ddot y + 1.5 \\dot y + 2y  = \\sin(t)$\r\n",
        "\r\n",
        "$$\r\n",
        "\\dot x_5 = -5 x_5 + 17 x_4 + 3 x_3 - 1.5 x_2 - 2x_1 + \\sin(t)\r\n",
        "\r\n",
        "$$\r\n",
        "\r\n",
        "Finally, we write it in a matrix form.\r\n",
        "\r\n",
        "\\begin{align}\r\n",
        "    \\dot{x}(t) = \\begin{bmatrix}\r\n",
        "        0 & 1 & 0 & 0 & 0 \\\\\r\n",
        "        0 & 0 & 1 & 0 & 0 \\\\\r\n",
        "        0 & 0 & 0 & 1 & 0 \\\\\r\n",
        "        0 & 0 & 0 & 0 & 1 \\\\\r\n",
        "        -2 & -1.5 & 3 & 17 & -5\\\\     \r\n",
        "    \\end{bmatrix} x(t) + \r\n",
        "    \\begin{bmatrix}\r\n",
        "        0 \\\\\r\n",
        "        0\\\\\r\n",
        "        0\\\\\r\n",
        "        0 \\\\\r\n",
        "        \\sin(t) \\\\     \r\n",
        "    \\end{bmatrix}\r\n",
        "\r\n",
        "\\end{align}"
      ]
    },
    {
      "cell_type": "code",
      "metadata": {
        "colab": {
          "base_uri": "https://localhost:8080/",
          "height": 279
        },
        "id": "tpkESp_OE9UM",
        "outputId": "2450feb8-c419-4d2f-c467-025ee9f6131f"
      },
      "source": [
        "import numpy as np\r\n",
        "from scipy.integrate import odeint\r\n",
        "import matplotlib.pyplot as plt\r\n",
        "\r\n",
        "n = 5\r\n",
        "A = np.array([[0, 1, 0, 0, 0], [0, 0, 1, 0, 0], [0, 0, 0, 1, 0], [0, 0, 0, 0, 1], [-2, -1.5, 3, 17, -5]])\r\n",
        "B = np.array([0, 0, 0, 0, 1])\r\n",
        "# x_dot from state space\r\n",
        "def StateSpace(x, t):\r\n",
        "    return A.dot(x) + B*np.sin(t)\r\n",
        "    \r\n",
        "\r\n",
        "time = np.linspace(0, 1, 1000)   \r\n",
        "x0 = np.array([1, 1, 1, 1, 1])\r\n",
        "\r\n",
        "solution = {\"SS\": odeint(StateSpace, x0, time)}\r\n",
        "\r\n",
        "plt.subplot(121)\r\n",
        "plt.plot(time, solution[\"SS\"])\r\n",
        "plt.xlabel('time')\r\n",
        "plt.ylabel('x(t)')\r\n",
        "\r\n",
        "plt.show()"
      ],
      "execution_count": 2,
      "outputs": [
        {
          "output_type": "display_data",
          "data": {
            "image/png": "[encoded data removed]",
            "text/plain": [
              "<Figure size 432x288 with 1 Axes>"
            ]
          },
          "metadata": {
            "tags": [],
            "needs_background": "light"
          }
        }
      ]
    },
    {
      "cell_type": "markdown",
      "metadata": {
        "id": "Gsf89nAaVnLs"
      },
      "source": [
        " $3) 6 y^{(5)} -3 y^{(4)}  + 22 y^{(3)} + 4   \\ddot y + 1.5 \\dot y + 1y  = \\sin(t)$\r\n",
        " $$\r\n",
        "\\dot x_5 = 0.5 x_5 - \\frac{11}{3} x_4 -\\frac{2}{3} x_3 - 0.25 x_2 - \\frac{1}{6} x_1 + \\frac{1}{6} \\sin(t)\r\n",
        "\r\n",
        "$$\r\n",
        "\r\n",
        "Finally, we write it in a matrix form.\r\n",
        "\r\n",
        "\\begin{align}\r\n",
        "    \\dot{x}(t) = \\begin{bmatrix}\r\n",
        "        0 & 1 & 0 & 0 & 0 \\\\\r\n",
        "        0 & 0 & 1 & 0 & 0 \\\\\r\n",
        "        0 & 0 & 0 & 1 & 0 \\\\\r\n",
        "        0 & 0 & 0 & 0 & 1 \\\\\r\n",
        "        -\\frac{1}{6} & -0.25 & -\\frac{2}{3} & -\\frac{11}{3} & 0.5\\\\     \r\n",
        "    \\end{bmatrix} x(t) + \r\n",
        "    \\begin{bmatrix}\r\n",
        "        0 \\\\\r\n",
        "        0\\\\\r\n",
        "        0\\\\\r\n",
        "        0 \\\\\r\n",
        "        \\frac{1}{6} \\sin(t) \\\\     \r\n",
        "    \\end{bmatrix}\r\n",
        "\r\n",
        "\\end{align}"
      ]
    },
    {
      "cell_type": "code",
      "metadata": {
        "colab": {
          "base_uri": "https://localhost:8080/",
          "height": 279
        },
        "id": "DPHmfcgyWCCw",
        "outputId": "3b8b1971-3ea9-4cf2-a47b-a5bff4131f13"
      },
      "source": [
        "import numpy as np\r\n",
        "from scipy.integrate import odeint\r\n",
        "import matplotlib.pyplot as plt\r\n",
        "\r\n",
        "n = 5\r\n",
        "A = np.array([[0, 1, 0, 0, 0], [0, 0, 1, 0, 0], [0, 0, 0, 1, 0], [0, 0, 0, 0, 1], [-1/6, -0.25, -2/3, -11/3, 0.5]])\r\n",
        "B = np.array([0, 0, 0, 0, 1/6])\r\n",
        "# x_dot from state space\r\n",
        "def StateSpace(x, t):\r\n",
        "    return A.dot(x) + B*np.sin(t)\r\n",
        "    \r\n",
        "\r\n",
        "time = np.linspace(0, 1, 1000)   \r\n",
        "x0 = np.array([1, 1, 1, 1, 1])\r\n",
        "\r\n",
        "solution = {\"SS\": odeint(StateSpace, x0, time)}\r\n",
        "\r\n",
        "plt.subplot(121)\r\n",
        "plt.plot(time, solution[\"SS\"])\r\n",
        "plt.xlabel('time')\r\n",
        "plt.ylabel('x(t)')\r\n",
        "\r\n",
        "plt.show()"
      ],
      "execution_count": 3,
      "outputs": [
        {
          "output_type": "display_data",
          "data": {
            "image/png": "[encoded data removed]",
            "text/plain": [
              "<Figure size 432x288 with 1 Axes>"
            ]
          },
          "metadata": {
            "tags": [],
            "needs_background": "light"
          }
        }
      ]
    },
    {
      "cell_type": "markdown",
      "metadata": {
        "id": "pqeLfIa0WSI4"
      },
      "source": [
        "$4) 22 y^{(5)} + 5  y^{(4)} -17 y^{(3)} - 1.5 \\ddot y + 100 \\dot y + 1.1y= \\sin(t)$\r\n",
        "$$\r\n",
        "\\dot x_5 = -\\frac{5}{22} x_5 + \\frac{17}{22} x_4 + \\frac{3}{44} x_3 - \\frac{50}{11} x_2 - 0.05x_1 + \\frac{1}{22} \\sin(t)\r\n",
        "\r\n",
        "$$\r\n",
        "\r\n",
        "Finally, we write it in a matrix form.\r\n",
        "\r\n",
        "\\begin{align}\r\n",
        "    \\dot{x}(t) = \\begin{bmatrix}\r\n",
        "        0 & 1 & 0 & 0 & 0 \\\\\r\n",
        "        0 & 0 & 1 & 0 & 0 \\\\\r\n",
        "        0 & 0 & 0 & 1 & 0 \\\\\r\n",
        "        0 & 0 & 0 & 0 & 1 \\\\\r\n",
        "        -0.05 & -\\frac{50}{11} & \\frac{3}{44} & \\frac{17}{22} & -\\frac{5}{22}\\\\     \r\n",
        "    \\end{bmatrix} x(t) + \r\n",
        "    \\begin{bmatrix}\r\n",
        "        0 \\\\\r\n",
        "        0\\\\\r\n",
        "        0\\\\\r\n",
        "        0 \\\\\r\n",
        "        \\frac{1}{22} \\sin(t) \\\\     \r\n",
        "    \\end{bmatrix}\r\n",
        "\r\n",
        "\\end{align}"
      ]
    },
    {
      "cell_type": "code",
      "metadata": {
        "colab": {
          "base_uri": "https://localhost:8080/",
          "height": 279
        },
        "id": "pzHCDKxmXDwF",
        "outputId": "54a86a52-923c-43be-92b4-d6867051344b"
      },
      "source": [
        "import numpy as np\r\n",
        "from scipy.integrate import odeint\r\n",
        "import matplotlib.pyplot as plt\r\n",
        "\r\n",
        "n = 5\r\n",
        "A = np.array([[0, 1, 0, 0, 0], [0, 0, 1, 0, 0], [0, 0, 0, 1, 0], [0, 0, 0, 0, 1], [-0.05, -50/11, 3/44, 17/22, -5/22]])\r\n",
        "B = np.array([0, 0, 0, 0, 1/22])\r\n",
        "# x_dot from state space\r\n",
        "def StateSpace(x, t):\r\n",
        "    return A.dot(x) + B*np.sin(t)\r\n",
        "    \r\n",
        "\r\n",
        "time = np.linspace(0, 1, 1000)   \r\n",
        "x0 = np.array([1, 1, 1, 1, 1])\r\n",
        "\r\n",
        "solution = {\"SS\": odeint(StateSpace, x0, time)}\r\n",
        "\r\n",
        "plt.subplot(121)\r\n",
        "plt.plot(time, solution[\"SS\"])\r\n",
        "plt.xlabel('time')\r\n",
        "plt.ylabel('x(t)')\r\n",
        "\r\n",
        "plt.show()"
      ],
      "execution_count": 4,
      "outputs": [
        {
          "output_type": "display_data",
          "data": {
            "image/png": "[encoded data removed]",
            "text/plain": [
              "<Figure size 432x288 with 1 Axes>"
            ]
          },
          "metadata": {
            "tags": [],
            "needs_background": "light"
          }
        }
      ]
    },
    {
      "cell_type": "markdown",
      "metadata": {
        "id": "d2zpJI1pXSKk"
      },
      "source": [
        "$5) -10 y^{(5)} + 1.5y^{(4)} -23 y^{(3)} - 2.5 \\ddot y + 0.1 \\dot y + 100y= \\sin(t)$\r\n",
        "$$\r\n",
        "\\dot x_5 = 0.15x_5 -2.3 x_4 - 0.25 x_3 + 0.01 x_2 + 10x_1 - 0.1 \\sin(t)\r\n",
        "\r\n",
        "$$\r\n",
        "\r\n",
        "Finally, we write it in a matrix form.\r\n",
        "\r\n",
        "\\begin{align}\r\n",
        "    \\dot{x}(t) = \\begin{bmatrix}\r\n",
        "        0 & 1 & 0 & 0 & 0 \\\\\r\n",
        "        0 & 0 & 1 & 0 & 0 \\\\\r\n",
        "        0 & 0 & 0 & 1 & 0 \\\\\r\n",
        "        0 & 0 & 0 & 0 & 1 \\\\\r\n",
        "        10 & 0.01 & -0.25 & -2.3 & 0.15\\\\     \r\n",
        "    \\end{bmatrix} x(t) + \r\n",
        "    \\begin{bmatrix}\r\n",
        "        0 \\\\\r\n",
        "        0\\\\\r\n",
        "        0\\\\\r\n",
        "        0 \\\\\r\n",
        "        -0.1 \\sin(t) \\\\     \r\n",
        "    \\end{bmatrix}\r\n",
        "\r\n",
        "\\end{align}"
      ]
    },
    {
      "cell_type": "code",
      "metadata": {
        "colab": {
          "base_uri": "https://localhost:8080/",
          "height": 281
        },
        "id": "-F0eNTzuXpIo",
        "outputId": "30d590e4-c12a-4def-9377-cd8e38d390d8"
      },
      "source": [
        "import numpy as np\r\n",
        "from scipy.integrate import odeint\r\n",
        "import matplotlib.pyplot as plt\r\n",
        "\r\n",
        "n = 5\r\n",
        "A = np.array([[0, 1, 0, 0, 0], [0, 0, 1, 0, 0], [0, 0, 0, 1, 0], [0, 0, 0, 0, 1], [10, 0.01, -0.25, -2.3, 0.15]])\r\n",
        "B = np.array([0, 0, 0, 0, -0.1])\r\n",
        "# x_dot from state space\r\n",
        "def StateSpace(x, t):\r\n",
        "    return A.dot(x) + B*np.sin(t)\r\n",
        "    \r\n",
        "\r\n",
        "time = np.linspace(0, 1, 1000)   \r\n",
        "x0 = np.array([1, 1, 1, 1, 1])\r\n",
        "\r\n",
        "solution = {\"SS\": odeint(StateSpace, x0, time)}\r\n",
        "\r\n",
        "plt.subplot(121)\r\n",
        "plt.plot(time, solution[\"SS\"])\r\n",
        "plt.xlabel('time')\r\n",
        "plt.ylabel('x(t)')\r\n",
        "\r\n",
        "plt.show()"
      ],
      "execution_count": 5,
      "outputs": [
        {
          "output_type": "display_data",
          "data": {
            "image/png": "[encoded data removed]",
            "text/plain": [
              "<Figure size 432x288 with 1 Axes>"
            ]
          },
          "metadata": {
            "tags": [],
            "needs_background": "light"
          }
        }
      ]
    },
    {
      "cell_type": "markdown",
      "metadata": {
        "id": "SNfNYmmRlCFE"
      },
      "source": [
        "## Subtask 2.4 Mass-spring-damper system\r\n",
        "\r\n",
        "Find and derive the equations for a mass-spring-damper system depicted below, write them in state-space and second order ODE forms(in text cells), and simulate them (make all the constant equal 1)\r\n",
        "\r\n",
        "<p><img alt=\"mbk\" height=\"250px\" src=\"https://drive.google.com/uc?id=1gkp6g7trNmVjWNFTbmrE8m4hU50Oat5W\" align=\"center\" hspace=\"350px\" vspace=\"0px\"></p>\r\n",
        "\r\n",
        "#Solution:\r\n",
        "\r\n",
        "Let's apply second Newton's Law to our system:\r\n",
        "\r\n",
        "$ ma = F - ky - c\\dot y$, where $a = \\ddot y$\r\n",
        "\r\n",
        "$m \\ddot y = -c \\dot y - ky + F$\r\n",
        "\r\n",
        "$ \\ddot y = -\\frac{c}{m} \\dot y - \\frac{k}{m} y + \\frac{F}{m}$\r\n",
        "\r\n",
        "After converting to state space we got:\r\n",
        "\r\n",
        "$\\dot x_2 = -\\frac{c}{m} x_2 - \\frac{k}{m} x_1 + \\frac{F}{m}$\r\n",
        "\r\n",
        "Let's write it in a matrix form:\r\n",
        "\r\n",
        "$$\\dot x(t) = \r\n",
        "\\begin{bmatrix} \r\n",
        "0 & 1 \\\\  \r\n",
        "-\\frac{k}{m} & -\\frac{c}{m} \\\\\r\n",
        "\\end{bmatrix}\r\n",
        "x(t) +\r\n",
        "\\begin{bmatrix}\r\n",
        "0\\\\\r\n",
        "\\frac{F}{m}\\\\\r\n",
        "\\end{bmatrix}\r\n",
        "$$\r\n",
        "\r\n",
        "# (Simulation below)"
      ]
    },
    {
      "cell_type": "code",
      "metadata": {
        "colab": {
          "base_uri": "https://localhost:8080/",
          "height": 283
        },
        "id": "LLX-PvkVnaz6",
        "outputId": "53f134a5-6252-4f36-dfea-23c9bf1e02ff"
      },
      "source": [
        "import numpy as np\r\n",
        "from scipy.integrate import odeint\r\n",
        "import matplotlib.pyplot as plt\r\n",
        "\r\n",
        "n = 2\r\n",
        "A = np.array([[0,1], [-1, -1]])\r\n",
        "B = np.array([0, 1])\r\n",
        "\r\n",
        "def StateSpace(x, t):\r\n",
        "    return A.dot(x) + B\r\n",
        "    \r\n",
        "\r\n",
        "time = np.linspace(0, 1, 1000)   \r\n",
        "x0 = np.array([1, 1])\r\n",
        "\r\n",
        "solution = {\"SS\": odeint(StateSpace, x0, time)}\r\n",
        "\r\n",
        "plt.subplot(121)\r\n",
        "plt.plot(time, solution[\"SS\"])\r\n",
        "plt.xlabel('time')\r\n",
        "plt.ylabel('x(t)')\r\n",
        "\r\n",
        "plt.show()"
      ],
      "execution_count": 6,
      "outputs": [
        {
          "output_type": "display_data",
          "data": {
            "image/png": "[encoded data removed]",
            "text/plain": [
              "<Figure size 432x288 with 1 Axes>"
            ]
          },
          "metadata": {
            "tags": [],
            "needs_background": "light"
          }
        }
      ]
    },
    {
      "cell_type": "markdown",
      "metadata": {
        "id": "80FDdUDeYO_0"
      },
      "source": [
        "# Task 3, Transfer functions\r\n",
        "\r\n",
        "## Task 3.1, Convert to transfer functions\r\n",
        "\r\n",
        "\r\n",
        "* \r\n",
        "$\r\n",
        "\\begin{cases}\r\n",
        "\\ddot x + 0.5 \\dot x + 4x = u \\\\\r\n",
        "y = 1.5 \\dot x + 6 x\r\n",
        "\\end{cases}\r\n",
        "$\r\n",
        "\r\n",
        "* \r\n",
        "$\r\n",
        "\\begin{cases}\r\n",
        "10 \\ddot x + 1.5 \\dot x + 8x = 0.5u \\\\\r\n",
        "y = 15 \\dot x + 16 x\r\n",
        "\\end{cases}\r\n",
        "$\r\n",
        "\r\n",
        "* \r\n",
        "$\r\n",
        "\\begin{cases}\r\n",
        "\\ddot x + 2 \\dot x - 5x = u \\\\\r\n",
        "y = 2.5 \\dot x - 7 x\r\n",
        "\\end{cases}\r\n",
        "$\r\n",
        "\r\n",
        "* \r\n",
        "$\r\n",
        "\\begin{cases}\r\n",
        "\\ddot x + 22 \\dot x + 10x = 10u \\\\\r\n",
        "y = 10.5 \\dot x + 11 x\r\n",
        "\\end{cases}\r\n",
        "$\r\n",
        "\r\n",
        "## Solution:\r\n",
        "1) $\r\n",
        "\\begin{cases}\r\n",
        "\\ddot x + 0.5 \\dot x + 4x = u \\\\\r\n",
        "y = 1.5 \\dot x + 6 x\r\n",
        "\\end{cases}\r\n",
        "$\r\n",
        "\r\n",
        "Let us define a derivative operator $p$, such that $\\dot x = p x$:\r\n",
        "\r\n",
        "$\\begin{cases}\r\n",
        "xp^2 + 0.5 px + 4x = u \\\\\r\n",
        "y = 1.5px + 6x\r\n",
        "\\end{cases}\r\n",
        "$\r\n",
        "\r\n",
        "$\\begin{cases}\r\n",
        "x = \\frac{u}{p^2 + 0.5p +4} \\\\\r\n",
        "y = 1.5px + 6x\r\n",
        "\\end{cases}$\r\n",
        "\r\n",
        "Let's substitute x into second equation of our system:\r\n",
        "\r\n",
        "Result: $y=\\frac{1.5p+6}{p^2 + 0.5p + 4}u$\r\n",
        "\r\n",
        "\r\n",
        "2) $\r\n",
        "\\begin{cases}\r\n",
        "10 \\ddot x + 1.5 \\dot x + 8x = 0.5u \\\\\r\n",
        "y = 15 \\dot x + 16 x\r\n",
        "\\end{cases}\r\n",
        "$\r\n",
        "\r\n",
        "Let us define a derivative operator $p$, such that $\\dot x = p x$:\r\n",
        "\r\n",
        "$\\begin{cases}\r\n",
        "10xp^2 + 1.5 px + 8x = 0.5u \\\\\r\n",
        "y = 15px + 16x\r\n",
        "\\end{cases}\r\n",
        "$ \r\n",
        "\r\n",
        "$\\begin{cases}\r\n",
        "x = \\frac{0.5u}{10p^2 + 1.5p + 8} \\\\\r\n",
        "y = 15px + 16x\r\n",
        "\\end{cases}\r\n",
        "$ \r\n",
        "\r\n",
        "Let's substitute x into second equation of our system:\r\n",
        "\r\n",
        "Result: $y = \\frac{7.5p + 8}{10p^2 + 1.5p + 8}u$\r\n",
        "\r\n",
        "3) $\r\n",
        "\\begin{cases}\r\n",
        "\\ddot x + 2 \\dot x - 5x = u \\\\\r\n",
        "y = 2.5 \\dot x - 7 x\r\n",
        "\\end{cases}\r\n",
        "$\r\n",
        "\r\n",
        "Let us define a derivative operator $p$, such that $\\dot x = p x$:\r\n",
        "\r\n",
        "$\\begin{cases}\r\n",
        "xp^2 + 2 px -5x = u \\\\\r\n",
        "y = 2.5px - 7x\r\n",
        "\\end{cases}\r\n",
        "$ \r\n",
        "\r\n",
        "$\\begin{cases}\r\n",
        "x = \\frac{u}{p^2 + 2p -5} \\\\\r\n",
        "y = 2.5px - 7x\r\n",
        "\\end{cases}\r\n",
        "$ \r\n",
        "\r\n",
        "Let's substitute x into second equation of our system:\r\n",
        "\r\n",
        "Result: $y = \\frac{2.5p - 7}{p^2 +2p -5}u$\r\n",
        "\r\n",
        "4)$\r\n",
        "\\begin{cases}\r\n",
        "\\ddot x + 22 \\dot x + 10x = 10u \\\\\r\n",
        "y = 10.5 \\dot x + 11 x\r\n",
        "\\end{cases}\r\n",
        "$\r\n",
        "\r\n",
        "Let us define a derivative operator $p$, such that $\\dot x = p x$:\r\n",
        "\r\n",
        "$\\begin{cases}\r\n",
        "xp^2 + 22 px +10x = 10u \\\\\r\n",
        "y = 10.5px + 11x\r\n",
        "\\end{cases}\r\n",
        "$ \r\n",
        "\r\n",
        "$\\begin{cases}\r\n",
        "x = \\frac{10u}{p^2 + 22p + 10} \\\\\r\n",
        "y = 10.5px + 11x\r\n",
        "\\end{cases}\r\n",
        "$\r\n",
        "\r\n",
        "Let's substitute x into second equation of our system:\r\n",
        "\r\n",
        "Result: $y= \\frac{105p + 110}{p^2 + 22p + 10}u$\r\n"
      ]
    }
  ]
}