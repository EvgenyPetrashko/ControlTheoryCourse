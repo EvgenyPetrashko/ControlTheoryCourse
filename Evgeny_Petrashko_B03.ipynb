{
  "nbformat": 4,
  "nbformat_minor": 0,
  "metadata": {
    "colab": {
      "name": "Evgeny.Petrashko_B03.ipynb",
      "provenance": [],
      "collapsed_sections": [
        "AiXW1JyZdNtm",
        "vnBFsH7ojRE1",
        "pv4R7yxNCnrC",
        "usPpyqP3kNGz",
        "qkg_7VWOkkKc"
      ],
      "authorship_tag": "ABX9TyMGgMV1imsHFtwJljvrw67l",
      "include_colab_link": true
    },
    "kernelspec": {
      "name": "python3",
      "display_name": "Python 3"
    }
  },
  "cells": [
    {
      "cell_type": "markdown",
      "metadata": {
        "id": "view-in-github",
        "colab_type": "text"
      },
      "source": [
        "<a href=\"https://colab.research.google.com/github/EvgenyPetrashko/ControlTheoryCourse/blob/main/Evgeny_Petrashko_B03.ipynb\" target=\"_parent\"><img src=\"https://colab.research.google.com/assets/colab-badge.svg\" alt=\"Open In Colab\"/></a>"
      ]
    },
    {
      "cell_type": "markdown",
      "metadata": {
        "id": "AiXW1JyZdNtm"
      },
      "source": [
        "# Tasks 1: ODE to State Space conversion\r\n",
        "\r\n",
        "Convert to State Space represantation, and to a state-space representation\r\n",
        "\r\n",
        "* $10 y^{(4)} -7  y^{(3)} + 2   \\ddot y + 0.5 \\dot y + 4y  = 15$\r\n",
        "* $5  y^{(4)} -17 y^{(3)} - 3   \\ddot y + 1.5 \\dot y + 2y  = 25$\r\n",
        "* $-3 y^{(4)} + 22 y^{(3)} + 4   \\ddot y + 1.5 \\dot y + 1y  = 15$\r\n",
        "* $5  y^{(4)} -17 y^{(3)} - 1.5 \\ddot y + 100 \\dot y + 1.1y= 45$\r\n",
        "* $1.5y^{(4)} -23 y^{(3)} - 2.5 \\ddot y + 0.1 \\dot y + 100y= -10$\r\n"
      ]
    },
    {
      "cell_type": "markdown",
      "metadata": {
        "id": "QYDQFUqTivfC"
      },
      "source": [
        "\r\n",
        "## Solution:\r\n",
        "\r\n",
        "1) $10 y^{(4)} -7  y^{(3)} + 2   \\ddot y + 0.5 \\dot y + 4y  = 15$\r\n",
        "\r\n",
        "$y^{(4)} = 0.7  y^{(3)} - 0.2   \\ddot y - 0.05 \\dot y - 0.4y  + 1.5$\r\n",
        "\r\n",
        "Substitution:\r\n",
        "\r\n",
        "$$x_4 = y^{(4-1)} \\\\\r\n",
        "\r\n",
        "  x_{4-1} = y^{(4-2)} \\\\\r\n",
        "\r\n",
        "  ... \\\\\r\n",
        "\r\n",
        "  x_1 = y$$\r\n",
        "\r\n",
        "$$\\dot x_1 = x_2 \\\\\r\n",
        "\r\n",
        "  \\dot x_2 = x_3 \\\\\r\n",
        "  \r\n",
        "  ... \\\\\r\n",
        "\r\n",
        "\\dot x_4 = 0.7 x_4 - 0.2 x_3 - 0.05 x_2 - 0.4 x_1 + 1.5\r\n",
        "\r\n",
        "$$\r\n",
        "\r\n",
        "Finally, we write it in a matrix form.\r\n",
        "\r\n",
        "\\begin{align}\r\n",
        "    \\dot{x}(t) = \\begin{bmatrix}\r\n",
        "        0 & 1 & 0 &  0  \\\\\r\n",
        "        0 & 0 & 1 & 0  \\\\\r\n",
        "        0 & 0 & 0 & 1  \\\\\r\n",
        "        -0.4 & -0.05 & -0.2 & 0.7 \\\\     \r\n",
        "    \\end{bmatrix} x(t) + \r\n",
        "    \\begin{bmatrix}\r\n",
        "        0 \\\\\r\n",
        "        0\\\\\r\n",
        "        0\\\\\r\n",
        "        1.5 \\\\     \r\n",
        "    \\end{bmatrix}\r\n",
        "\r\n",
        "\\end{align}\r\n",
        "\r\n",
        "2) $5  y^{(4)} -17 y^{(3)} - 3   \\ddot y + 1.5 \\dot y + 2y  = 25$\r\n",
        "\r\n",
        "$y^{(4)} = 3.4  y^{(3)} + 0.6   \\ddot y - 0.3 \\dot y - 0.4y  + 5$\r\n",
        "\r\n",
        "Substitution:\r\n",
        "\r\n",
        "$$x_4 = y^{(4-1)} \\\\\r\n",
        "  x_{4-1} = y^{(4-2)} \\\\\r\n",
        "  ... \\\\\r\n",
        "  x_1 = y$$\r\n",
        "\r\n",
        "$$\\dot x_1 = x_2 \\\\\r\n",
        "  \\dot x_2 = x_3 \\\\\r\n",
        "  ... \\\\\r\n",
        "\r\n",
        "\\dot x_4 = 3.4 x_4 + 0.6 x_3 - 0.3 x_2 - 0.4 x_1 + 5\r\n",
        "\r\n",
        "$$\r\n",
        "\r\n",
        "Finally, we write it in a matrix form.\r\n",
        "\r\n",
        "\\begin{align}\r\n",
        "    \\dot{x}(t) = \\begin{bmatrix}\r\n",
        "        0 & 1 & 0 &  0  \\\\\r\n",
        "        0 & 0 & 1 & 0  \\\\\r\n",
        "        0 & 0 & 0 & 1  \\\\\r\n",
        "        -0.4 & -0.3 & 0.6 & 3.4 \\\\     \r\n",
        "    \\end{bmatrix} x(t) + \r\n",
        "    \\begin{bmatrix}\r\n",
        "        0 \\\\\r\n",
        "        0\\\\\r\n",
        "        0\\\\\r\n",
        "        5 \\\\     \r\n",
        "    \\end{bmatrix}\r\n",
        "\r\n",
        "\\end{align}\r\n",
        "\r\n",
        "3) $-3 y^{(4)} + 22 y^{(3)} + 4   \\ddot y + 1.5 \\dot y + 1y  = 15$\r\n",
        "\r\n",
        "$y^{(4)} = \\frac{22}{3}  y^{(3)} + \\frac{4}{3}   \\ddot y +0.5 \\dot y + \\frac{1}{3} y  - 5$\r\n",
        "\r\n",
        "Substitution:\r\n",
        "\r\n",
        "$$x_4 = y^{(4-1)} \\\\\r\n",
        "  x_{4-1} = y^{(4-2)} \\\\\r\n",
        "  ... \\\\\r\n",
        "  x_1 = y$$\r\n",
        "\r\n",
        "$$\\dot x_1 = x_2 \\\\\r\n",
        "  \\dot x_2 = x_3 \\\\\r\n",
        "  ... \\\\\r\n",
        "\r\n",
        "\\dot x_4 = \\frac{22}{3} x_4 + \\frac{4}{3} x_3 + 0.5 x_2 + \\frac{1}{3} x_1 - 5\r\n",
        "\r\n",
        "$$\r\n",
        "\r\n",
        "Finally, we write it in a matrix form.\r\n",
        "\r\n",
        "\\begin{align}\r\n",
        "    \\dot{x}(t) = \\begin{bmatrix}\r\n",
        "        0 & 1 & 0 &  0  \\\\\r\n",
        "        0 & 0 & 1 & 0  \\\\\r\n",
        "        0 & 0 & 0 & 1  \\\\\r\n",
        "        \\frac{1}{3} & 0.5 & \\frac{4}{3} & \\frac{22}{3} \\\\     \r\n",
        "    \\end{bmatrix} x(t) + \r\n",
        "    \\begin{bmatrix}\r\n",
        "        0 \\\\\r\n",
        "        0\\\\\r\n",
        "        0\\\\\r\n",
        "        -5 \\\\     \r\n",
        "    \\end{bmatrix}\r\n",
        "\r\n",
        "\\end{align}\r\n",
        "\r\n",
        "4) $5  y^{(4)} -17 y^{(3)} - 1.5 \\ddot y + 100 \\dot y + 1.1y= 45$\r\n",
        "\r\n",
        "$y^{(4)} = 3.4  y^{(3)} + 0.3   \\ddot y - 20 \\dot y - 0.22y  + 9$\r\n",
        "\r\n",
        "Substitution:\r\n",
        "\r\n",
        "$$x_4 = y^{(4-1)} \\\\\r\n",
        "  x_{4-1} = y^{(4-2)} \\\\\r\n",
        "  ... \\\\\r\n",
        "  x_1 = y$$\r\n",
        "\r\n",
        "$$\\dot x_1 = x_2 \\\\\r\n",
        "  \\dot x_2 = x_3 \\\\\r\n",
        "  ... \\\\\r\n",
        "\r\n",
        "\\dot x_4 = 3.4 x_4 + 0.3 x_3 - 20 x_2 - 0.22 x_1 + 9\r\n",
        "\r\n",
        "$$\r\n",
        "\r\n",
        "Finally, we write it in a matrix form.\r\n",
        "\r\n",
        "\\begin{align}\r\n",
        "    \\dot{x}(t) = \\begin{bmatrix}\r\n",
        "        0 & 1 & 0 &  0  \\\\\r\n",
        "        0 & 0 & 1 & 0  \\\\\r\n",
        "        0 & 0 & 0 & 1  \\\\\r\n",
        "        -0.22 & -20 & 0.3 & 3.4 \\\\     \r\n",
        "    \\end{bmatrix} x(t) + \r\n",
        "    \\begin{bmatrix}\r\n",
        "        0 \\\\\r\n",
        "        0\\\\\r\n",
        "        0\\\\\r\n",
        "        9 \\\\     \r\n",
        "    \\end{bmatrix}\r\n",
        "\r\n",
        "\\end{align}\r\n",
        "\r\n",
        "5) $1.5y^{(4)} -23 y^{(3)} - 2.5 \\ddot y + 0.1 \\dot y + 100y= -10$\r\n",
        "\r\n",
        "$y^{(4)} = \\frac{46}{3}  y^{(3)} + \\frac{5}{3}   \\ddot y -\\frac{1}{15} \\dot y -\\frac{200}{3}y  -\\frac{20}{3}$\r\n",
        "\r\n",
        "Substitution:\r\n",
        "\r\n",
        "$$x_4 = y^{(4-1)} \\\\\r\n",
        "  x_{4-1} = y^{(4-2)} \\\\\r\n",
        "  ... \\\\\r\n",
        "  x_1 = y$$\r\n",
        "\r\n",
        "$$\\dot x_1 = x_2 \\\\\r\n",
        "  \\dot x_2 = x_3 \\\\\r\n",
        "  ... \\\\\r\n",
        "\r\n",
        "\\dot x_4 = \\frac{46}{3} x_4 + \\frac{5}{3} x_3 - \\frac{1}{15} x_2 - \\frac{200}{3} x_1 - \\frac{20}{3}\r\n",
        "\r\n",
        "$$\r\n",
        "\r\n",
        "Finally, we write it in a matrix form.\r\n",
        "\r\n",
        "\\begin{align}\r\n",
        "    \\dot{x}(t) = \\begin{bmatrix}\r\n",
        "        0 & 1 & 0 &  0  \\\\\r\n",
        "        0 & 0 & 1 & 0  \\\\\r\n",
        "        0 & 0 & 0 & 1  \\\\\r\n",
        "        -\\frac{200}{3} & -\\frac{1}{15} & \\frac{5}{3} & \\frac{46}{3} \\\\     \r\n",
        "    \\end{bmatrix} x(t) + \r\n",
        "    \\begin{bmatrix}\r\n",
        "        0 \\\\\r\n",
        "        0\\\\\r\n",
        "        0\\\\\r\n",
        "        -\\frac{20}{3} \\\\     \r\n",
        "    \\end{bmatrix}\r\n",
        "\r\n",
        "\\end{align}"
      ]
    },
    {
      "cell_type": "markdown",
      "metadata": {
        "id": "TU70_LCNCR6Z"
      },
      "source": [
        "## Task 1.3: \r\n",
        "Implement your own integration method that will take the state-space function $\\mathbf{f} = \\frac{d\\mathbf{x}}{dt}$, the time $t$, and the initial state $\\mathbf{x}(0)$ as input and produce the solution $\\mathbf{x}^*(t)$ as output (consider the case when $x$ is a scalar) (You may use [Euler's](https://www.khanacademy.org/math/differential-equations/first-order-differential-equations/eulers-method-tutorial/v/eulers-method?modal=1) or [Runge-Kutta](https://www.youtube.com/watch?v=kUcc8vAgoQ0) integration scheme). solve the first equation from (1.1) using it and show the simulations for both methods (odeint and your implemetation)."
      ]
    },
    {
      "cell_type": "code",
      "metadata": {
        "colab": {
          "base_uri": "https://localhost:8080/",
          "height": 573
        },
        "id": "vX5r8QP6CQPi",
        "outputId": "b3650626-ce68-417f-d148-0e4fdaea00ea"
      },
      "source": [
        "import numpy as np\r\n",
        "from scipy.integrate import odeint\r\n",
        "import matplotlib.pyplot as plt\r\n",
        "\r\n",
        "\r\n",
        "def ODE_Euler(f, y0, t):\r\n",
        "    y = [y0]\r\n",
        "    for n in range(0, len(t)-1):\r\n",
        "        y.append(y[n] + f(y[n], t[n])*(t[n+1] - t[n]))\r\n",
        "    return y\r\n",
        "\r\n",
        "\r\n",
        "n = 3\r\n",
        "A = np.array([[0, 1, 0, 0], [0, 0, 1, 0], [0, 0, 0, 1], [-0.4, -0.05, -0.2, 0.7]])\r\n",
        "B = np.array([0, 0, 0, 1.5])\r\n",
        "\r\n",
        "\r\n",
        "def StateSpace(x, t):\r\n",
        "    return A.dot(x) + B\r\n",
        "\r\n",
        "\r\n",
        "time = np.linspace(0, 1, 1000)\r\n",
        "x0 = np.array([1, 1, 1, 1])\r\n",
        "solution1 = odeint(StateSpace, x0, time)\r\n",
        "solution2 = ODE_Euler(StateSpace, x0, time)\r\n",
        "\r\n",
        "plot1 = plt.figure(1)\r\n",
        "plt.title('Using Odeint')\r\n",
        "plt.xlabel('time')\r\n",
        "plt.ylabel('x(t)')\r\n",
        "plt.plot(time, solution1)\r\n",
        "\r\n",
        "plot2 = plt.figure(2)\r\n",
        "plt.title('Using Euler')\r\n",
        "plt.xlabel('time')\r\n",
        "plt.ylabel('x(t)')\r\n",
        "plt.plot(time, solution2)\r\n",
        "\r\n",
        "plt.show()"
      ],
      "execution_count": 1,
      "outputs": [
        {
          "output_type": "display_data",
          "data": {
            "image/png": "[encoded data removed]",
            "text/plain": [
              "<Figure size 432x288 with 1 Axes>"
            ]
          },
          "metadata": {
            "tags": [],
            "needs_background": "light"
          }
        },
        {
          "output_type": "display_data",
          "data": {
            "image/png": "[encoded data removed]",
            "text/plain": [
              "<Figure size 432x288 with 1 Axes>"
            ]
          },
          "metadata": {
            "tags": [],
            "needs_background": "light"
          }
        }
      ]
    },
    {
      "cell_type": "markdown",
      "metadata": {
        "id": "vnBFsH7ojRE1"
      },
      "source": [
        "# Tasks 2: solving ODE\r\n",
        "\r\n",
        "## Subtask 2.1, convert to state space and simulate and if it diverges, try to change so it will converge\r\n",
        "\r\n",
        "* $10 y^{(5)} + 10 y^{(4)} -7  y^{(3)} + 2   \\ddot y + 0.5 \\dot y + 4y  = 0$\r\n",
        "* $1 y^{(5)} + 5  y^{(4)} -17 y^{(3)} - 3   \\ddot y + 1.5 \\dot y + 2y  = 0$\r\n",
        "* $6 y^{(5)} -3 y^{(4)}  22 y^{(3)} + 4   \\ddot y + 1.5 \\dot y + 1y  = 0$\r\n",
        "* $22 y^{(5)} + 5  y^{(4)} -17 y^{(3)} - 1.5 \\ddot y + 100 \\dot y + 1.1y= 0$\r\n",
        "* $-10 y^{(5)} + 1.5y^{(4)} -23 y^{(3)} - 2.5 \\ddot y + 0.1 \\dot y + 100y= 0$"
      ]
    },
    {
      "cell_type": "markdown",
      "metadata": {
        "id": "kKQ-H30VpgcA"
      },
      "source": [
        "\r\n",
        "\r\n",
        "##Solution:\r\n",
        "\r\n",
        "1) $10 y^{(5)} + 10 y^{(4)} -7  y^{(3)} + 2   \\ddot y + 0.5 \\dot y + 4y  = 0$\r\n",
        "\r\n",
        "$y^{(5)} = -  y^{(4)} + 0.7 y^{(3)} - 0.2 \\ddot y - 0.05\\dot y -0.4y $\r\n",
        "\r\n",
        "Substitution:\r\n",
        "\r\n",
        "$$x_5 = y^{(5-1)} \\\\\r\n",
        "  x_{5-1} = y^{(5-2)} \\\\\r\n",
        "  ... \\\\\r\n",
        "  x_1 = y$$\r\n",
        "\r\n",
        "$$\\dot x_1 = x_2 \\\\\r\n",
        "  \\dot x_2 = x_3 \\\\\r\n",
        "  ... \\\\\r\n",
        "\r\n",
        "\\dot x_5 = - x_5 + 0.7 x_4 - 0.2 x_3 - 0.05 x_2 - 0.4x_1\r\n",
        "\r\n",
        "$$\r\n",
        "\r\n",
        "Finally, we write it in a matrix form.\r\n",
        "\r\n",
        "\\begin{align}\r\n",
        "    \\dot{x}(t) = \\begin{bmatrix}\r\n",
        "        0 & 1 & 0 & 0 & 0 \\\\\r\n",
        "        0 & 0 & 1 & 0 & 0 \\\\\r\n",
        "        0 & 0 & 0 & 1 & 0 \\\\\r\n",
        "        0 & 0 & 0 & 0 & 1 \\\\\r\n",
        "        -0.4 & -0.05 & -0.2 & 0.7 & -1\\\\     \r\n",
        "    \\end{bmatrix} x(t) + \r\n",
        "    \\begin{bmatrix}\r\n",
        "        0 \\\\\r\n",
        "        0\\\\\r\n",
        "        0\\\\\r\n",
        "        0 \\\\\r\n",
        "        0 \\\\     \r\n",
        "    \\end{bmatrix}\r\n",
        "\r\n",
        "\\end{align}"
      ]
    },
    {
      "cell_type": "code",
      "metadata": {
        "colab": {
          "base_uri": "https://localhost:8080/",
          "height": 279
        },
        "id": "1frh1GFps2yY",
        "outputId": "2c8e46ea-3dfb-4190-dfac-691164929e1d"
      },
      "source": [
        "import numpy as np\r\n",
        "from scipy.integrate import odeint\r\n",
        "import matplotlib.pyplot as plt\r\n",
        "\r\n",
        "n = 5\r\n",
        "A = np.array([[0, 1, 0, 0, 0], [0, 0, 1, 0, 0], [0, 0, 0, 1, 0], [0, 0, 0, 0, 1], [-0.4, -0.05, -0.2, 0.7, -1]])\r\n",
        "B = np.array([0, 0, 0, 0, 0])\r\n",
        "# x_dot from state space\r\n",
        "def StateSpace(x, t):\r\n",
        "    return A.dot(x) + B\r\n",
        "    \r\n",
        "\r\n",
        "time = np.linspace(0, 1, 1000)   \r\n",
        "x0 = np.array([1, 1, 1, 1, 1])\r\n",
        "\r\n",
        "solution = {\"SS\": odeint(StateSpace, x0, time)}\r\n",
        "\r\n",
        "plt.subplot(121)\r\n",
        "plt.plot(time, solution[\"SS\"])\r\n",
        "plt.xlabel('time')\r\n",
        "plt.ylabel('x(t)')\r\n",
        "\r\n",
        "plt.show()"
      ],
      "execution_count": 2,
      "outputs": [
        {
          "output_type": "display_data",
          "data": {
            "image/png": "[encoded data removed]",
            "text/plain": [
              "<Figure size 432x288 with 1 Axes>"
            ]
          },
          "metadata": {
            "tags": [],
            "needs_background": "light"
          }
        }
      ]
    },
    {
      "cell_type": "markdown",
      "metadata": {
        "id": "ztRPWHEjBSqB"
      },
      "source": [
        "**As we can see it's divergent. For convergence we need coefficients  as follows(for example): [  -1  -43 -100  -63  -14] it is the last row of the matrix**"
      ]
    },
    {
      "cell_type": "markdown",
      "metadata": {
        "id": "Y51WtLo46O2P"
      },
      "source": [
        "2)  $1 y^{(5)} + 5  y^{(4)} -17 y^{(3)} - 3   \\ddot y + 1.5 \\dot y + 2y  = 0$\r\n",
        "\r\n",
        "$y^{(5)} = -  5y^{(4)} + 17 y^{(3)} + 3 \\ddot y - 1.5\\dot y -2y $\r\n",
        "\r\n",
        "Substitution:\r\n",
        "\r\n",
        "$$x_5 = y^{(5-1)} \\\\\r\n",
        "  x_{5-1} = y^{(5-2)} \\\\\r\n",
        "  ... \\\\\r\n",
        "  x_1 = y$$\r\n",
        "\r\n",
        "$$\\dot x_1 = x_2 \\\\\r\n",
        "  \\dot x_2 = x_3 \\\\\r\n",
        "  ... \\\\\r\n",
        "\r\n",
        "\\dot x_5 = -5 x_5 + 17 x_4 + 3 x_3 - 1.5 x_2 - 2x_1\r\n",
        "\r\n",
        "$$\r\n",
        "\r\n",
        "Finally, we write it in a matrix form.\r\n",
        "\r\n",
        "\\begin{align}\r\n",
        "    \\dot{x}(t) = \\begin{bmatrix}\r\n",
        "        0 & 1 & 0 & 0 & 0 \\\\\r\n",
        "        0 & 0 & 1 & 0 & 0 \\\\\r\n",
        "        0 & 0 & 0 & 1 & 0 \\\\\r\n",
        "        0 & 0 & 0 & 0 & 1 \\\\\r\n",
        "        -2 & -1.5 & 3 & 17 & -5\\\\     \r\n",
        "    \\end{bmatrix} x(t) + \r\n",
        "    \\begin{bmatrix}\r\n",
        "        0 \\\\\r\n",
        "        0\\\\\r\n",
        "        0\\\\\r\n",
        "        0 \\\\\r\n",
        "        0 \\\\     \r\n",
        "    \\end{bmatrix}\r\n",
        "\r\n",
        "\\end{align}"
      ]
    },
    {
      "cell_type": "code",
      "metadata": {
        "colab": {
          "base_uri": "https://localhost:8080/",
          "height": 279
        },
        "id": "MFUdZ1k665c8",
        "outputId": "03cd72f7-8fd2-45c1-8627-82521556c904"
      },
      "source": [
        "import numpy as np\r\n",
        "from scipy.integrate import odeint\r\n",
        "import matplotlib.pyplot as plt\r\n",
        "\r\n",
        "n = 5\r\n",
        "A = np.array([[0, 1, 0, 0, 0], [0, 0, 1, 0, 0], [0, 0, 0, 1, 0], [0, 0, 0, 0, 1], [-2, -1.5, 3, 17, -5]])\r\n",
        "B = np.array([0, 0, 0, 0, 0])\r\n",
        "# x_dot from state space\r\n",
        "def StateSpace(x, t):\r\n",
        "    return A.dot(x) + B\r\n",
        "    \r\n",
        "\r\n",
        "time = np.linspace(0, 1, 1000)   \r\n",
        "x0 = np.array([1, 1, 1, 1, 1])\r\n",
        "\r\n",
        "solution = {\"SS\": odeint(StateSpace, x0, time)}\r\n",
        "\r\n",
        "plt.subplot(121)\r\n",
        "plt.plot(time, solution[\"SS\"])\r\n",
        "plt.xlabel('time')\r\n",
        "plt.ylabel('x(t)')\r\n",
        "\r\n",
        "plt.show()"
      ],
      "execution_count": 3,
      "outputs": [
        {
          "output_type": "display_data",
          "data": {
            "image/png": "[encoded data removed]",
            "text/plain": [
              "<Figure size 432x288 with 1 Axes>"
            ]
          },
          "metadata": {
            "tags": [],
            "needs_background": "light"
          }
        }
      ]
    },
    {
      "cell_type": "markdown",
      "metadata": {
        "id": "t-pqpQnQB8Rg"
      },
      "source": [
        "**As we can see it's divergent. For convergence we need coefficients as follows(for example): [ -3 -32 -99 -96 -24] it is the last row of the matrix**"
      ]
    },
    {
      "cell_type": "markdown",
      "metadata": {
        "id": "B7BrCYFP7Vx9"
      },
      "source": [
        "3)  $6 y^{(5)} -3 y^{(4)}  + 22 y^{(3)} + 4   \\ddot y + 1.5 \\dot y + 1y  = 0$\r\n",
        "\r\n",
        "$y^{(5)} =  0.5y^{(4)} - \\frac{11}{3} y^{(3)} - \\frac{2}{3} \\ddot y - 0.25\\dot y -\\frac{1}{6} y $\r\n",
        "\r\n",
        "Substitution:\r\n",
        "\r\n",
        "$$x_5 = y^{(5-1)} \\\\\r\n",
        "  x_{5-1} = y^{(5-2)} \\\\\r\n",
        "  ... \\\\\r\n",
        "  x_1 = y$$\r\n",
        "\r\n",
        "$$\\dot x_1 = x_2 \\\\\r\n",
        "  \\dot x_2 = x_3 \\\\\r\n",
        "  ... \\\\\r\n",
        "\r\n",
        "\\dot x_5 = 0.5 x_5 - \\frac{11}{3} x_4 -\\frac{2}{3} x_3 - 0.25 x_2 - \\frac{1}{6} x_1\r\n",
        "\r\n",
        "$$\r\n",
        "\r\n",
        "Finally, we write it in a matrix form.\r\n",
        "\r\n",
        "\\begin{align}\r\n",
        "    \\dot{x}(t) = \\begin{bmatrix}\r\n",
        "        0 & 1 & 0 & 0 & 0 \\\\\r\n",
        "        0 & 0 & 1 & 0 & 0 \\\\\r\n",
        "        0 & 0 & 0 & 1 & 0 \\\\\r\n",
        "        0 & 0 & 0 & 0 & 1 \\\\\r\n",
        "        -\\frac{1}{6} & -0.25 & -\\frac{2}{3} & -\\frac{11}{3} & 0.5\\\\     \r\n",
        "    \\end{bmatrix} x(t) + \r\n",
        "    \\begin{bmatrix}\r\n",
        "        0 \\\\\r\n",
        "        0\\\\\r\n",
        "        0\\\\\r\n",
        "        0 \\\\\r\n",
        "        0 \\\\     \r\n",
        "    \\end{bmatrix}\r\n",
        "\r\n",
        "\\end{align}"
      ]
    },
    {
      "cell_type": "code",
      "metadata": {
        "colab": {
          "base_uri": "https://localhost:8080/",
          "height": 279
        },
        "id": "kg6maB618ZtF",
        "outputId": "a49b1c16-10c4-4174-8e8f-60cc9c212bde"
      },
      "source": [
        "import numpy as np\r\n",
        "from scipy.integrate import odeint\r\n",
        "import matplotlib.pyplot as plt\r\n",
        "\r\n",
        "n = 5\r\n",
        "A = np.array([[0, 1, 0, 0, 0], [0, 0, 1, 0, 0], [0, 0, 0, 1, 0], [0, 0, 0, 0, 1], [-1/6, -0.25, -2/3, -11/3, 0.5]])\r\n",
        "B = np.array([0, 0, 0, 0, 0])\r\n",
        "# x_dot from state space\r\n",
        "def StateSpace(x, t):\r\n",
        "    return A.dot(x) + B\r\n",
        "    \r\n",
        "\r\n",
        "time = np.linspace(0, 1, 1000)   \r\n",
        "x0 = np.array([1, 1, 1, 1, 1])\r\n",
        "\r\n",
        "solution = {\"SS\": odeint(StateSpace, x0, time)}\r\n",
        "\r\n",
        "plt.subplot(121)\r\n",
        "plt.plot(time, solution[\"SS\"])\r\n",
        "plt.xlabel('time')\r\n",
        "plt.ylabel('x(t)')\r\n",
        "\r\n",
        "plt.show()"
      ],
      "execution_count": 4,
      "outputs": [
        {
          "output_type": "display_data",
          "data": {
            "image/png": "[encoded data removed]",
            "text/plain": [
              "<Figure size 432x288 with 1 Axes>"
            ]
          },
          "metadata": {
            "tags": [],
            "needs_background": "light"
          }
        }
      ]
    },
    {
      "cell_type": "markdown",
      "metadata": {
        "id": "XmD7XNRnCFn-"
      },
      "source": [
        "**As we can see it's divergent. For convergence we need coefficients as follows(for example): [ -3 -34 -96 -89 -23] it is the last row of the matrix**"
      ]
    },
    {
      "cell_type": "markdown",
      "metadata": {
        "id": "d7GeNu7T8tP3"
      },
      "source": [
        "4)  $22 y^{(5)} + 5  y^{(4)} -17 y^{(3)} - 1.5 \\ddot y + 100 \\dot y + 1.1y= 0$\r\n",
        "\r\n",
        "$y^{(5)} = -\\frac{5}{22}y^{(4)} + \\frac{17}{22} y^{(3)} + \\frac{3}{44} \\ddot y - \\frac{50}{11}\\dot y -0.05y $\r\n",
        "\r\n",
        "Substitution:\r\n",
        "\r\n",
        "$$x_5 = y^{(5-1)} \\\\\r\n",
        "  x_{5-1} = y^{(5-2)} \\\\\r\n",
        "  ... \\\\\r\n",
        "  x_1 = y$$\r\n",
        "\r\n",
        "$$\\dot x_1 = x_2 \\\\\r\n",
        "  \\dot x_2 = x_3 \\\\\r\n",
        "  ... \\\\\r\n",
        "\r\n",
        "\\dot x_5 = -\\frac{5}{22} x_5 + \\frac{17}{22} x_4 + \\frac{3}{44} x_3 - \\frac{50}{11} x_2 - 0.05x_1\r\n",
        "\r\n",
        "$$\r\n",
        "\r\n",
        "Finally, we write it in a matrix form.\r\n",
        "\r\n",
        "\\begin{align}\r\n",
        "    \\dot{x}(t) = \\begin{bmatrix}\r\n",
        "        0 & 1 & 0 & 0 & 0 \\\\\r\n",
        "        0 & 0 & 1 & 0 & 0 \\\\\r\n",
        "        0 & 0 & 0 & 1 & 0 \\\\\r\n",
        "        0 & 0 & 0 & 0 & 1 \\\\\r\n",
        "        -0.05 & -\\frac{50}{11} & \\frac{3}{44} & \\frac{17}{22} & -\\frac{5}{22}\\\\     \r\n",
        "    \\end{bmatrix} x(t) + \r\n",
        "    \\begin{bmatrix}\r\n",
        "        0 \\\\\r\n",
        "        0\\\\\r\n",
        "        0\\\\\r\n",
        "        0 \\\\\r\n",
        "        0 \\\\     \r\n",
        "    \\end{bmatrix}\r\n",
        "\r\n",
        "\\end{align}"
      ]
    },
    {
      "cell_type": "code",
      "metadata": {
        "colab": {
          "base_uri": "https://localhost:8080/",
          "height": 279
        },
        "id": "5prrV-vS-FAc",
        "outputId": "a28766fe-5cef-45b6-f809-23d8c9b54328"
      },
      "source": [
        "import numpy as np\r\n",
        "from scipy.integrate import odeint\r\n",
        "import matplotlib.pyplot as plt\r\n",
        "\r\n",
        "n = 5\r\n",
        "A = np.array([[0, 1, 0, 0, 0], [0, 0, 1, 0, 0], [0, 0, 0, 1, 0], [0, 0, 0, 0, 1], [-0.05, -50/11, 3/44, 17/22, -5/22]])\r\n",
        "B = np.array([0, 0, 0, 0, 0])\r\n",
        "# x_dot from state space\r\n",
        "def StateSpace(x, t):\r\n",
        "    return A.dot(x) + B\r\n",
        "    \r\n",
        "\r\n",
        "time = np.linspace(0, 1, 1000)   \r\n",
        "x0 = np.array([1, 1, 1, 1, 1])\r\n",
        "\r\n",
        "solution = {\"SS\": odeint(StateSpace, x0, time)}\r\n",
        "\r\n",
        "plt.subplot(121)\r\n",
        "plt.plot(time, solution[\"SS\"])\r\n",
        "plt.xlabel('time')\r\n",
        "plt.ylabel('x(t)')\r\n",
        "\r\n",
        "plt.show()"
      ],
      "execution_count": 5,
      "outputs": [
        {
          "output_type": "display_data",
          "data": {
            "image/png": "[encoded data removed]",
            "text/plain": [
              "<Figure size 432x288 with 1 Axes>"
            ]
          },
          "metadata": {
            "tags": [],
            "needs_background": "light"
          }
        }
      ]
    },
    {
      "cell_type": "markdown",
      "metadata": {
        "id": "-IoRouuxCMpr"
      },
      "source": [
        "**As we can see it's divergent. For convergence we need coefficients as follows(for example): [ -1 -21 -82 -99 -26] it is the last row of the matrix**"
      ]
    },
    {
      "cell_type": "markdown",
      "metadata": {
        "id": "K6nltVJG-xgR"
      },
      "source": [
        "5) $-10 y^{(5)} + 1.5y^{(4)} -23 y^{(3)} - 2.5 \\ddot y + 0.1 \\dot y + 100y= 0$\r\n",
        "\r\n",
        "$y^{(5)} = 0.15 y^{(4)} - 2.3 y^{(3)} - 0.25 \\ddot y + 0.01\\dot y + 10y $\r\n",
        "\r\n",
        "Substitution:\r\n",
        "\r\n",
        "$$x_5 = y^{(5-1)} \\\\\r\n",
        "  x_{5-1} = y^{(5-2)} \\\\\r\n",
        "  ... \\\\\r\n",
        "  x_1 = y$$\r\n",
        "\r\n",
        "$$\\dot x_1 = x_2 \\\\\r\n",
        "  \\dot x_2 = x_3 \\\\\r\n",
        "  ... \\\\\r\n",
        "\r\n",
        "\\dot x_5 = 0.15x_5 -2.3 x_4 - 0.25 x_3 + 0.01 x_2 + 10x_1\r\n",
        "\r\n",
        "$$\r\n",
        "\r\n",
        "Finally, we write it in a matrix form.\r\n",
        "\r\n",
        "\\begin{align}\r\n",
        "    \\dot{x}(t) = \\begin{bmatrix}\r\n",
        "        0 & 1 & 0 & 0 & 0 \\\\\r\n",
        "        0 & 0 & 1 & 0 & 0 \\\\\r\n",
        "        0 & 0 & 0 & 1 & 0 \\\\\r\n",
        "        0 & 0 & 0 & 0 & 1 \\\\\r\n",
        "        10 & 0.01 & -0.25 & -2.3 & 0.15\\\\     \r\n",
        "    \\end{bmatrix} x(t) + \r\n",
        "    \\begin{bmatrix}\r\n",
        "        0 \\\\\r\n",
        "        0\\\\\r\n",
        "        0\\\\\r\n",
        "        0 \\\\\r\n",
        "        0 \\\\     \r\n",
        "    \\end{bmatrix}\r\n",
        "\r\n",
        "\\end{align}"
      ]
    },
    {
      "cell_type": "code",
      "metadata": {
        "colab": {
          "base_uri": "https://localhost:8080/",
          "height": 280
        },
        "id": "UpDRQNQ4_138",
        "outputId": "f096cd0d-48a8-42ae-f3ee-36c6c4891cd7"
      },
      "source": [
        "import numpy as np\r\n",
        "from scipy.integrate import odeint\r\n",
        "import matplotlib.pyplot as plt\r\n",
        "\r\n",
        "n = 5\r\n",
        "A = np.array([[0, 1, 0, 0, 0], [0, 0, 1, 0, 0], [0, 0, 0, 1, 0], [0, 0, 0, 0, 1], [10, 0.01, -0.25, -2.3, 0.15]])\r\n",
        "B = np.array([0, 0, 0, 0, 0])\r\n",
        "# x_dot from state space\r\n",
        "def StateSpace(x, t):\r\n",
        "    return A.dot(x) + B\r\n",
        "    \r\n",
        "\r\n",
        "time = np.linspace(0, 1, 1000)   \r\n",
        "x0 = np.array([1, 1, 1, 1, 1])\r\n",
        "\r\n",
        "solution = {\"SS\": odeint(StateSpace, x0, time)}\r\n",
        "\r\n",
        "plt.subplot(121)\r\n",
        "plt.plot(time, solution[\"SS\"])\r\n",
        "plt.xlabel('time')\r\n",
        "plt.ylabel('x(t)')\r\n",
        "\r\n",
        "plt.show()"
      ],
      "execution_count": 6,
      "outputs": [
        {
          "output_type": "display_data",
          "data": {
            "image/png": "[encoded data removed]",
            "text/plain": [
              "<Figure size 432x288 with 1 Axes>"
            ]
          },
          "metadata": {
            "tags": [],
            "needs_background": "light"
          }
        }
      ]
    },
    {
      "cell_type": "markdown",
      "metadata": {
        "id": "iXNwkBfXCci5"
      },
      "source": [
        "**As we can see it's divergent. For convergence we need coefficients as follows(for example): [ -1 -16 -71 -97 -39] it is the last row of the matrix**"
      ]
    },
    {
      "cell_type": "markdown",
      "metadata": {
        "id": "pv4R7yxNCnrC"
      },
      "source": [
        "## Subtask 2.3, solve\r\n",
        "* $10 y^{(5)} + 10 y^{(4)} -7  y^{(3)} + 2   \\ddot y + 0.5 \\dot y + 4y  = \\sin(t)$\r\n",
        "* $1 y^{(5)} + 5  y^{(4)} -17 y^{(3)} - 3   \\ddot y + 1.5 \\dot y + 2y  = \\sin(t)$\r\n",
        "* $6 y^{(5)} -3 y^{(4)}  22 y^{(3)} + 4   \\ddot y + 1.5 \\dot y + 1y  = \\sin(t)$\r\n",
        "* $22 y^{(5)} + 5  y^{(4)} -17 y^{(3)} - 1.5 \\ddot y + 100 \\dot y + 1.1y= \\sin(t)$\r\n",
        "* $-10 y^{(5)} + 1.5y^{(4)} -23 y^{(3)} - 2.5 \\ddot y + 0.1 \\dot y + 100y= \\sin(t)$\r\n",
        "\r\n",
        "Since we already solve the same ODE's we can just change the constant term in state space equations:\r\n",
        "\r\n",
        "1) $10 y^{(5)} + 10 y^{(4)} -7  y^{(3)} + 2   \\ddot y + 0.5 \\dot y + 4y  = \\sin(t)$\r\n",
        "\r\n",
        "$$\r\n",
        "\\dot x_5 = - x_5 + 0.7 x_4 - 0.2 x_3 - 0.05 x_2 - 0.4x_1 + 0.1\\sin(t)$$\r\n",
        "Finally, we write it in a matrix form.\r\n",
        "\r\n",
        "\\begin{align}\r\n",
        "    \\dot{x}(t) = \\begin{bmatrix}\r\n",
        "        0 & 1 & 0 & 0 & 0 \\\\\r\n",
        "        0 & 0 & 1 & 0 & 0 \\\\\r\n",
        "        0 & 0 & 0 & 1 & 0 \\\\\r\n",
        "        0 & 0 & 0 & 0 & 1 \\\\\r\n",
        "        -0.4 & -0.05 & -0.2 & 0.7 & -1\\\\     \r\n",
        "    \\end{bmatrix} x(t) + \r\n",
        "    \\begin{bmatrix}\r\n",
        "        0 \\\\\r\n",
        "        0\\\\\r\n",
        "        0\\\\\r\n",
        "        0 \\\\\r\n",
        "        0.1\\sin(t) \\\\     \r\n",
        "    \\end{bmatrix}\r\n",
        "\r\n",
        "\\end{align}"
      ]
    },
    {
      "cell_type": "code",
      "metadata": {
        "colab": {
          "base_uri": "https://localhost:8080/",
          "height": 279
        },
        "id": "h3Gqt-3CELW-",
        "outputId": "736b57ae-d771-4203-dccb-8f2f342d4afd"
      },
      "source": [
        "import numpy as np\r\n",
        "from scipy.integrate import odeint\r\n",
        "import matplotlib.pyplot as plt\r\n",
        "\r\n",
        "n = 5\r\n",
        "A = np.array([[0, 1, 0, 0, 0], [0, 0, 1, 0, 0], [0, 0, 0, 1, 0], [0, 0, 0, 0, 1], [-0.4, -0.05, -0.2, 0.7, -1]])\r\n",
        "B = np.array([0, 0, 0, 0, 0.1])\r\n",
        "# x_dot from state space\r\n",
        "def StateSpace(x, t):\r\n",
        "    return A.dot(x) + B*np.sin(t)\r\n",
        "    \r\n",
        "\r\n",
        "time = np.linspace(0, 1, 1000)   \r\n",
        "x0 = np.array([1, 1, 1, 1, 1])\r\n",
        "\r\n",
        "solution = {\"SS\": odeint(StateSpace, x0, time)}\r\n",
        "\r\n",
        "plt.subplot(121)\r\n",
        "plt.plot(time, solution[\"SS\"])\r\n",
        "plt.xlabel('time')\r\n",
        "plt.ylabel('x(t)')\r\n",
        "\r\n",
        "plt.show()"
      ],
      "execution_count": null,
      "outputs": [
        {
          "output_type": "display_data",
          "data": {
            "image/png": "[encoded data removed]",
            "text/plain": [
              "<Figure size 432x288 with 1 Axes>"
            ]
          },
          "metadata": {
            "tags": [],
            "needs_background": "light"
          }
        }
      ]
    },
    {
      "cell_type": "markdown",
      "metadata": {
        "id": "tRo7caVVEoDW"
      },
      "source": [
        "$2) 1 y^{(5)} + 5  y^{(4)} -17 y^{(3)} - 3   \\ddot y + 1.5 \\dot y + 2y  = \\sin(t)$\r\n",
        "\r\n",
        "$$\r\n",
        "\\dot x_5 = -5 x_5 + 17 x_4 + 3 x_3 - 1.5 x_2 - 2x_1 + \\sin(t)\r\n",
        "\r\n",
        "$$\r\n",
        "\r\n",
        "Finally, we write it in a matrix form.\r\n",
        "\r\n",
        "\\begin{align}\r\n",
        "    \\dot{x}(t) = \\begin{bmatrix}\r\n",
        "        0 & 1 & 0 & 0 & 0 \\\\\r\n",
        "        0 & 0 & 1 & 0 & 0 \\\\\r\n",
        "        0 & 0 & 0 & 1 & 0 \\\\\r\n",
        "        0 & 0 & 0 & 0 & 1 \\\\\r\n",
        "        -2 & -1.5 & 3 & 17 & -5\\\\     \r\n",
        "    \\end{bmatrix} x(t) + \r\n",
        "    \\begin{bmatrix}\r\n",
        "        0 \\\\\r\n",
        "        0\\\\\r\n",
        "        0\\\\\r\n",
        "        0 \\\\\r\n",
        "        \\sin(t) \\\\     \r\n",
        "    \\end{bmatrix}\r\n",
        "\r\n",
        "\\end{align}"
      ]
    },
    {
      "cell_type": "code",
      "metadata": {
        "colab": {
          "base_uri": "https://localhost:8080/",
          "height": 279
        },
        "id": "tpkESp_OE9UM",
        "outputId": "2450feb8-c419-4d2f-c467-025ee9f6131f"
      },
      "source": [
        "import numpy as np\r\n",
        "from scipy.integrate import odeint\r\n",
        "import matplotlib.pyplot as plt\r\n",
        "\r\n",
        "n = 5\r\n",
        "A = np.array([[0, 1, 0, 0, 0], [0, 0, 1, 0, 0], [0, 0, 0, 1, 0], [0, 0, 0, 0, 1], [-2, -1.5, 3, 17, -5]])\r\n",
        "B = np.array([0, 0, 0, 0, 1])\r\n",
        "# x_dot from state space\r\n",
        "def StateSpace(x, t):\r\n",
        "    return A.dot(x) + B*np.sin(t)\r\n",
        "    \r\n",
        "\r\n",
        "time = np.linspace(0, 1, 1000)   \r\n",
        "x0 = np.array([1, 1, 1, 1, 1])\r\n",
        "\r\n",
        "solution = {\"SS\": odeint(StateSpace, x0, time)}\r\n",
        "\r\n",
        "plt.subplot(121)\r\n",
        "plt.plot(time, solution[\"SS\"])\r\n",
        "plt.xlabel('time')\r\n",
        "plt.ylabel('x(t)')\r\n",
        "\r\n",
        "plt.show()"
      ],
      "execution_count": null,
      "outputs": [
        {
          "output_type": "display_data",
          "data": {
            "image/png": "[encoded data removed]",
            "text/plain": [
              "<Figure size 432x288 with 1 Axes>"
            ]
          },
          "metadata": {
            "tags": [],
            "needs_background": "light"
          }
        }
      ]
    },
    {
      "cell_type": "markdown",
      "metadata": {
        "id": "Gsf89nAaVnLs"
      },
      "source": [
        " $3) 6 y^{(5)} -3 y^{(4)}  + 22 y^{(3)} + 4   \\ddot y + 1.5 \\dot y + 1y  = \\sin(t)$\r\n",
        " $$\r\n",
        "\\dot x_5 = 0.5 x_5 - \\frac{11}{3} x_4 -\\frac{2}{3} x_3 - 0.25 x_2 - \\frac{1}{6} x_1 + \\frac{1}{6} \\sin(t)\r\n",
        "\r\n",
        "$$\r\n",
        "\r\n",
        "Finally, we write it in a matrix form.\r\n",
        "\r\n",
        "\\begin{align}\r\n",
        "    \\dot{x}(t) = \\begin{bmatrix}\r\n",
        "        0 & 1 & 0 & 0 & 0 \\\\\r\n",
        "        0 & 0 & 1 & 0 & 0 \\\\\r\n",
        "        0 & 0 & 0 & 1 & 0 \\\\\r\n",
        "        0 & 0 & 0 & 0 & 1 \\\\\r\n",
        "        -\\frac{1}{6} & -0.25 & -\\frac{2}{3} & -\\frac{11}{3} & 0.5\\\\     \r\n",
        "    \\end{bmatrix} x(t) + \r\n",
        "    \\begin{bmatrix}\r\n",
        "        0 \\\\\r\n",
        "        0\\\\\r\n",
        "        0\\\\\r\n",
        "        0 \\\\\r\n",
        "        \\frac{1}{6} \\sin(t) \\\\     \r\n",
        "    \\end{bmatrix}\r\n",
        "\r\n",
        "\\end{align}"
      ]
    },
    {
      "cell_type": "code",
      "metadata": {
        "colab": {
          "base_uri": "https://localhost:8080/",
          "height": 279
        },
        "id": "DPHmfcgyWCCw",
        "outputId": "3b8b1971-3ea9-4cf2-a47b-a5bff4131f13"
      },
      "source": [
        "import numpy as np\r\n",
        "from scipy.integrate import odeint\r\n",
        "import matplotlib.pyplot as plt\r\n",
        "\r\n",
        "n = 5\r\n",
        "A = np.array([[0, 1, 0, 0, 0], [0, 0, 1, 0, 0], [0, 0, 0, 1, 0], [0, 0, 0, 0, 1], [-1/6, -0.25, -2/3, -11/3, 0.5]])\r\n",
        "B = np.array([0, 0, 0, 0, 1/6])\r\n",
        "# x_dot from state space\r\n",
        "def StateSpace(x, t):\r\n",
        "    return A.dot(x) + B*np.sin(t)\r\n",
        "    \r\n",
        "\r\n",
        "time = np.linspace(0, 1, 1000)   \r\n",
        "x0 = np.array([1, 1, 1, 1, 1])\r\n",
        "\r\n",
        "solution = {\"SS\": odeint(StateSpace, x0, time)}\r\n",
        "\r\n",
        "plt.subplot(121)\r\n",
        "plt.plot(time, solution[\"SS\"])\r\n",
        "plt.xlabel('time')\r\n",
        "plt.ylabel('x(t)')\r\n",
        "\r\n",
        "plt.show()"
      ],
      "execution_count": null,
      "outputs": [
        {
          "output_type": "display_data",
          "data": {
            "image/png": "[encoded data removed]",
            "text/plain": [
              "<Figure size 432x288 with 1 Axes>"
            ]
          },
          "metadata": {
            "tags": [],
            "needs_background": "light"
          }
        }
      ]
    },
    {
      "cell_type": "markdown",
      "metadata": {
        "id": "pqeLfIa0WSI4"
      },
      "source": [
        "$4) 22 y^{(5)} + 5  y^{(4)} -17 y^{(3)} - 1.5 \\ddot y + 100 \\dot y + 1.1y= \\sin(t)$\r\n",
        "$$\r\n",
        "\\dot x_5 = -\\frac{5}{22} x_5 + \\frac{17}{22} x_4 + \\frac{3}{44} x_3 - \\frac{50}{11} x_2 - 0.05x_1 + \\frac{1}{22} \\sin(t)\r\n",
        "\r\n",
        "$$\r\n",
        "\r\n",
        "Finally, we write it in a matrix form.\r\n",
        "\r\n",
        "\\begin{align}\r\n",
        "    \\dot{x}(t) = \\begin{bmatrix}\r\n",
        "        0 & 1 & 0 & 0 & 0 \\\\\r\n",
        "        0 & 0 & 1 & 0 & 0 \\\\\r\n",
        "        0 & 0 & 0 & 1 & 0 \\\\\r\n",
        "        0 & 0 & 0 & 0 & 1 \\\\\r\n",
        "        -0.05 & -\\frac{50}{11} & \\frac{3}{44} & \\frac{17}{22} & -\\frac{5}{22}\\\\     \r\n",
        "    \\end{bmatrix} x(t) + \r\n",
        "    \\begin{bmatrix}\r\n",
        "        0 \\\\\r\n",
        "        0\\\\\r\n",
        "        0\\\\\r\n",
        "        0 \\\\\r\n",
        "        \\frac{1}{22} \\sin(t) \\\\     \r\n",
        "    \\end{bmatrix}\r\n",
        "\r\n",
        "\\end{align}"
      ]
    },
    {
      "cell_type": "code",
      "metadata": {
        "colab": {
          "base_uri": "https://localhost:8080/",
          "height": 279
        },
        "id": "pzHCDKxmXDwF",
        "outputId": "54a86a52-923c-43be-92b4-d6867051344b"
      },
      "source": [
        "import numpy as np\r\n",
        "from scipy.integrate import odeint\r\n",
        "import matplotlib.pyplot as plt\r\n",
        "\r\n",
        "n = 5\r\n",
        "A = np.array([[0, 1, 0, 0, 0], [0, 0, 1, 0, 0], [0, 0, 0, 1, 0], [0, 0, 0, 0, 1], [-0.05, -50/11, 3/44, 17/22, -5/22]])\r\n",
        "B = np.array([0, 0, 0, 0, 1/22])\r\n",
        "# x_dot from state space\r\n",
        "def StateSpace(x, t):\r\n",
        "    return A.dot(x) + B*np.sin(t)\r\n",
        "    \r\n",
        "\r\n",
        "time = np.linspace(0, 1, 1000)   \r\n",
        "x0 = np.array([1, 1, 1, 1, 1])\r\n",
        "\r\n",
        "solution = {\"SS\": odeint(StateSpace, x0, time)}\r\n",
        "\r\n",
        "plt.subplot(121)\r\n",
        "plt.plot(time, solution[\"SS\"])\r\n",
        "plt.xlabel('time')\r\n",
        "plt.ylabel('x(t)')\r\n",
        "\r\n",
        "plt.show()"
      ],
      "execution_count": null,
      "outputs": [
        {
          "output_type": "display_data",
          "data": {
            "image/png": "[encoded data removed]",
            "text/plain": [
              "<Figure size 432x288 with 1 Axes>"
            ]
          },
          "metadata": {
            "tags": [],
            "needs_background": "light"
          }
        }
      ]
    },
    {
      "cell_type": "markdown",
      "metadata": {
        "id": "d2zpJI1pXSKk"
      },
      "source": [
        "$5) -10 y^{(5)} + 1.5y^{(4)} -23 y^{(3)} - 2.5 \\ddot y + 0.1 \\dot y + 100y= \\sin(t)$\r\n",
        "$$\r\n",
        "\\dot x_5 = 0.15x_5 -2.3 x_4 - 0.25 x_3 + 0.01 x_2 + 10x_1 - 0.1 \\sin(t)\r\n",
        "\r\n",
        "$$\r\n",
        "\r\n",
        "Finally, we write it in a matrix form.\r\n",
        "\r\n",
        "\\begin{align}\r\n",
        "    \\dot{x}(t) = \\begin{bmatrix}\r\n",
        "        0 & 1 & 0 & 0 & 0 \\\\\r\n",
        "        0 & 0 & 1 & 0 & 0 \\\\\r\n",
        "        0 & 0 & 0 & 1 & 0 \\\\\r\n",
        "        0 & 0 & 0 & 0 & 1 \\\\\r\n",
        "        10 & 0.01 & -0.25 & -2.3 & 0.15\\\\     \r\n",
        "    \\end{bmatrix} x(t) + \r\n",
        "    \\begin{bmatrix}\r\n",
        "        0 \\\\\r\n",
        "        0\\\\\r\n",
        "        0\\\\\r\n",
        "        0 \\\\\r\n",
        "        -0.1 \\sin(t) \\\\     \r\n",
        "    \\end{bmatrix}\r\n",
        "\r\n",
        "\\end{align}"
      ]
    },
    {
      "cell_type": "code",
      "metadata": {
        "colab": {
          "base_uri": "https://localhost:8080/",
          "height": 281
        },
        "id": "-F0eNTzuXpIo",
        "outputId": "30d590e4-c12a-4def-9377-cd8e38d390d8"
      },
      "source": [
        "import numpy as np\r\n",
        "from scipy.integrate import odeint\r\n",
        "import matplotlib.pyplot as plt\r\n",
        "\r\n",
        "n = 5\r\n",
        "A = np.array([[0, 1, 0, 0, 0], [0, 0, 1, 0, 0], [0, 0, 0, 1, 0], [0, 0, 0, 0, 1], [10, 0.01, -0.25, -2.3, 0.15]])\r\n",
        "B = np.array([0, 0, 0, 0, -0.1])\r\n",
        "# x_dot from state space\r\n",
        "def StateSpace(x, t):\r\n",
        "    return A.dot(x) + B*np.sin(t)\r\n",
        "    \r\n",
        "\r\n",
        "time = np.linspace(0, 1, 1000)   \r\n",
        "x0 = np.array([1, 1, 1, 1, 1])\r\n",
        "\r\n",
        "solution = {\"SS\": odeint(StateSpace, x0, time)}\r\n",
        "\r\n",
        "plt.subplot(121)\r\n",
        "plt.plot(time, solution[\"SS\"])\r\n",
        "plt.xlabel('time')\r\n",
        "plt.ylabel('x(t)')\r\n",
        "\r\n",
        "plt.show()"
      ],
      "execution_count": null,
      "outputs": [
        {
          "output_type": "display_data",
          "data": {
            "image/png": "[encoded data removed]",
            "text/plain": [
              "<Figure size 432x288 with 1 Axes>"
            ]
          },
          "metadata": {
            "tags": [],
            "needs_background": "light"
          }
        }
      ]
    },
    {
      "cell_type": "markdown",
      "metadata": {
        "id": "SNfNYmmRlCFE"
      },
      "source": [
        "## Subtask 2.4 Mass-spring-damper system\r\n",
        "\r\n",
        "Find and derive the equations for a mass-spring-damper system depicted below, write them in state-space and second order ODE forms(in text cells), and simulate them (make all the constant equal 1)\r\n",
        "\r\n",
        "<p><img alt=\"mbk\" height=\"250px\" src=\"https://drive.google.com/uc?id=1gkp6g7trNmVjWNFTbmrE8m4hU50Oat5W\" align=\"center\" hspace=\"350px\" vspace=\"0px\"></p>\r\n",
        "\r\n",
        "#Solution:\r\n",
        "\r\n",
        "Let's apply second Newton's Law to our system:\r\n",
        "\r\n",
        "$ ma = F - ky - c\\dot y$, where $a = \\ddot y$\r\n",
        "\r\n",
        "$m \\ddot y = -c \\dot y - ky + F$\r\n",
        "\r\n",
        "$ \\ddot y = -\\frac{c}{m} \\dot y - \\frac{k}{m} y + \\frac{F}{m}$\r\n",
        "\r\n",
        "After converting to state space we got:\r\n",
        "\r\n",
        "$\\dot x_2 = -\\frac{c}{m} x_2 - \\frac{k}{m} x_1 + \\frac{F}{m}$\r\n",
        "\r\n",
        "Let's write it in a matrix form:\r\n",
        "\r\n",
        "$$\\dot x(t) = \r\n",
        "\\begin{bmatrix} \r\n",
        "0 & 1 \\\\  \r\n",
        "-\\frac{k}{m} & -\\frac{c}{m} \\\\\r\n",
        "\\end{bmatrix}\r\n",
        "x(t) +\r\n",
        "\\begin{bmatrix}\r\n",
        "0\\\\\r\n",
        "\\frac{F}{m}\\\\\r\n",
        "\\end{bmatrix}\r\n",
        "$$\r\n",
        "\r\n",
        "# (Simulation below)"
      ]
    },
    {
      "cell_type": "code",
      "metadata": {
        "colab": {
          "base_uri": "https://localhost:8080/",
          "height": 283
        },
        "id": "LLX-PvkVnaz6",
        "outputId": "53f134a5-6252-4f36-dfea-23c9bf1e02ff"
      },
      "source": [
        "import numpy as np\r\n",
        "from scipy.integrate import odeint\r\n",
        "import matplotlib.pyplot as plt\r\n",
        "\r\n",
        "n = 2\r\n",
        "A = np.array([[0,1], [-1, -1]])\r\n",
        "B = np.array([0, 1])\r\n",
        "\r\n",
        "def StateSpace(x, t):\r\n",
        "    return A.dot(x) + B\r\n",
        "    \r\n",
        "\r\n",
        "time = np.linspace(0, 1, 1000)   \r\n",
        "x0 = np.array([1, 1])\r\n",
        "\r\n",
        "solution = {\"SS\": odeint(StateSpace, x0, time)}\r\n",
        "\r\n",
        "plt.subplot(121)\r\n",
        "plt.plot(time, solution[\"SS\"])\r\n",
        "plt.xlabel('time')\r\n",
        "plt.ylabel('x(t)')\r\n",
        "\r\n",
        "plt.show()"
      ],
      "execution_count": null,
      "outputs": [
        {
          "output_type": "display_data",
          "data": {
            "image/png": "[encoded data removed]",
            "text/plain": [
              "<Figure size 432x288 with 1 Axes>"
            ]
          },
          "metadata": {
            "tags": [],
            "needs_background": "light"
          }
        }
      ]
    },
    {
      "cell_type": "markdown",
      "metadata": {
        "id": "usPpyqP3kNGz"
      },
      "source": [
        "# Task 3, Transfer functions\r\n",
        "\r\n",
        "## Task 3.1, Convert to transfer functions\r\n",
        "\r\n",
        "\r\n",
        "* \r\n",
        "$\r\n",
        "\\begin{cases}\r\n",
        "\\ddot x + 0.5 \\dot x + 4x = u \\\\\r\n",
        "y = 1.5 \\dot x + 6 x\r\n",
        "\\end{cases}\r\n",
        "$\r\n",
        "\r\n",
        "* \r\n",
        "$\r\n",
        "\\begin{cases}\r\n",
        "10 \\ddot x + 1.5 \\dot x + 8x = 0.5u \\\\\r\n",
        "y = 15 \\dot x + 16 x\r\n",
        "\\end{cases}\r\n",
        "$\r\n",
        "\r\n",
        "* \r\n",
        "$\r\n",
        "\\begin{cases}\r\n",
        "\\ddot x + 2 \\dot x - 5x = u \\\\\r\n",
        "y = 2.5 \\dot x - 7 x\r\n",
        "\\end{cases}\r\n",
        "$\r\n",
        "\r\n",
        "* \r\n",
        "$\r\n",
        "\\begin{cases}\r\n",
        "\\ddot x + 22 \\dot x + 10x = 10u \\\\\r\n",
        "y = 10.5 \\dot x + 11 x\r\n",
        "\\end{cases}\r\n",
        "$"
      ]
    },
    {
      "cell_type": "markdown",
      "metadata": {
        "id": "80FDdUDeYO_0"
      },
      "source": [
        "\r\n",
        "## Solution:\r\n",
        "1) $\r\n",
        "\\begin{cases}\r\n",
        "\\ddot x + 0.5 \\dot x + 4x = u \\\\\r\n",
        "y = 1.5 \\dot x + 6 x\r\n",
        "\\end{cases}\r\n",
        "$\r\n",
        "\r\n",
        "Let us define a derivative operator $p$, such that $\\dot x = p x$:\r\n",
        "\r\n",
        "$\r\n",
        "\\begin{cases}\r\n",
        "xp^2 + 0.5 px + 4x = u \\\\\r\n",
        "y = 1.5px + 6x\r\n",
        "\\end{cases}\r\n",
        "$\r\n",
        "\r\n",
        "$\\begin{cases}\r\n",
        "x = \\frac{u}{p^2 + 0.5p +4} \\\\\r\n",
        "y = 1.5px + 6x\r\n",
        "\\end{cases}$\r\n",
        "\r\n",
        "Let's substitute x into second equation of our system:\r\n",
        "\r\n",
        "Result: $y=\\frac{1.5p+6}{p^2 + 0.5p + 4}u$\r\n",
        "\r\n",
        "\r\n",
        "2) $\r\n",
        "\\begin{cases}\r\n",
        "10 \\ddot x + 1.5 \\dot x + 8x = 0.5u \\\\\r\n",
        "y = 15 \\dot x + 16 x\r\n",
        "\\end{cases}\r\n",
        "$\r\n",
        "\r\n",
        "Let us define a derivative operator $p$, such that $\\dot x = p x$:\r\n",
        "\r\n",
        "$\\begin{cases}\r\n",
        "10xp^2 + 1.5 px + 8x = 0.5u \\\\\r\n",
        "y = 15px + 16x\r\n",
        "\\end{cases}\r\n",
        "$ \r\n",
        "\r\n",
        "$\\begin{cases}\r\n",
        "x = \\frac{0.5u}{10p^2 + 1.5p + 8} \\\\\r\n",
        "y = 15px + 16x\r\n",
        "\\end{cases}\r\n",
        "$ \r\n",
        "\r\n",
        "Let's substitute x into second equation of our system:\r\n",
        "\r\n",
        "Result: $y = \\frac{7.5p + 8}{10p^2 + 1.5p + 8}u$\r\n",
        "\r\n",
        "3) $\r\n",
        "\\begin{cases}\r\n",
        "\\ddot x + 2 \\dot x - 5x = u \\\\\r\n",
        "y = 2.5 \\dot x - 7 x\r\n",
        "\\end{cases}\r\n",
        "$\r\n",
        "\r\n",
        "Let us define a derivative operator $p$, such that $\\dot x = p x$:\r\n",
        "\r\n",
        "$\\begin{cases}\r\n",
        "xp^2 + 2 px -5x = u \\\\\r\n",
        "y = 2.5px - 7x\r\n",
        "\\end{cases}\r\n",
        "$ \r\n",
        "\r\n",
        "$\\begin{cases}\r\n",
        "x = \\frac{u}{p^2 + 2p -5} \\\\\r\n",
        "y = 2.5px - 7x\r\n",
        "\\end{cases}\r\n",
        "$ \r\n",
        "\r\n",
        "Let's substitute x into second equation of our system:\r\n",
        "\r\n",
        "Result: $y = \\frac{2.5p - 7}{p^2 +2p -5}u$\r\n",
        "\r\n",
        "4)$\r\n",
        "\\begin{cases}\r\n",
        "\\ddot x + 22 \\dot x + 10x = 10u \\\\\r\n",
        "y = 10.5 \\dot x + 11 x\r\n",
        "\\end{cases}\r\n",
        "$\r\n",
        "\r\n",
        "Let us define a derivative operator $p$, such that $\\dot x = p x$:\r\n",
        "\r\n",
        "$\\begin{cases}\r\n",
        "xp^2 + 22 px +10x = 10u \\\\\r\n",
        "y = 10.5px + 11x\r\n",
        "\\end{cases}\r\n",
        "$ \r\n",
        "\r\n",
        "$\\begin{cases}\r\n",
        "x = \\frac{10u}{p^2 + 22p + 10} \\\\\r\n",
        "y = 10.5px + 11x\r\n",
        "\\end{cases}\r\n",
        "$\r\n",
        "\r\n",
        "Let's substitute x into second equation of our system:\r\n",
        "\r\n",
        "Result: $y= \\frac{105p + 110}{p^2 + 22p + 10}u$\r\n"
      ]
    },
    {
      "cell_type": "markdown",
      "metadata": {
        "id": "qkg_7VWOkkKc"
      },
      "source": [
        "# Task 1.1 Find if the systems are stable\r\n",
        "Find if the following autonomous linear systems are stable (print the eigen values and comment on them)\r\n",
        "\r\n",
        "$$\\dot x = \r\n",
        "\\begin{pmatrix} 1 & 0 \\\\ -5 & -10\r\n",
        "\\end{pmatrix}\r\n",
        "x\r\n",
        "$$\r\n",
        "$$\\dot x = \r\n",
        "\\begin{pmatrix} 0 & 8 \\\\ 1 & 3\r\n",
        "\\end{pmatrix}\r\n",
        "x\r\n",
        "$$\r\n",
        "$$\\dot x = \r\n",
        "\\begin{pmatrix} 0 & 8 \\\\ 6 & 0\r\n",
        "\\end{pmatrix}\r\n",
        "x\r\n",
        "$$\r\n",
        "$$\\dot x = \r\n",
        "\\begin{pmatrix} 0 & 1 \\\\ 6 & 3\r\n",
        "\\end{pmatrix}\r\n",
        "x\r\n",
        "$$"
      ]
    },
    {
      "cell_type": "markdown",
      "metadata": {
        "id": "Rid0HMsgn-Xi"
      },
      "source": [
        "\r\n",
        "##Solution:\r\n",
        "\r\n",
        "Autonomous linear system is stable, iff the eigenvalues of its matrix have negative real parts. In other words, their should lie on the left half of the complex plane.\r\n",
        "\r\n",
        "Let's use the following code:"
      ]
    },
    {
      "cell_type": "code",
      "metadata": {
        "colab": {
          "base_uri": "https://localhost:8080/"
        },
        "id": "EcLVODSFotuK",
        "outputId": "e4d6ea31-7231-40ea-b428-910ee35a296f"
      },
      "source": [
        "import numpy as np\r\n",
        "from numpy.linalg import eig\r\n",
        "\r\n",
        "A = np.array([[0, 1], [6, 3]]) # state matrix\r\n",
        "e, v = eig(A)\r\n",
        "print(\"eigenvalues of A:\", e)"
      ],
      "execution_count": null,
      "outputs": [
        {
          "output_type": "stream",
          "text": [
            "eigenvalues of A: [-1.37228132  4.37228132]\n"
          ],
          "name": "stdout"
        }
      ]
    },
    {
      "cell_type": "markdown",
      "metadata": {
        "id": "6gglFlA8o0EL"
      },
      "source": [
        "Using this code we can find eigenvalues and understand stability of the system:\r\n",
        "\r\n",
        "1)$ \\lambda_1 = -10.$ and $\\lambda_2 = 1.$ it means that the system isn't stable, since one of the eigenvalues is possitive\r\n",
        "\r\n",
        "2)$ \\lambda_1 = -1.70156212$ and $\\lambda_2 = 4.70156212$ it means that the system isn't stable, since one of the eigenvalues is possitive\r\n",
        "\r\n",
        "3) $ \\lambda_1 = 6.92820323$ and $\\lambda_2 = -6.92820323$ it means that the system isn't stable, since one of the eigenvalues is possitive\r\n",
        "\r\n",
        "4) $ \\lambda_1 = -1.37228132$ and $\\lambda_2 = 4.37228132$ it means that the system isn't stable, since one of the eigenvalues is possitive"
      ]
    },
    {
      "cell_type": "code",
      "metadata": {
        "colab": {
          "base_uri": "https://localhost:8080/",
          "height": 1000
        },
        "id": "BBqP3sbvrhNI",
        "outputId": "4ed1d469-6eaa-4436-ea09-d111372b90c3"
      },
      "source": [
        "from scipy.integrate import odeint\r\n",
        "import matplotlib.pyplot as plt\r\n",
        "import numpy as np\r\n",
        "\r\n",
        "A1 = np.array([[1, 0], [-5, -10]])\r\n",
        "A2 = np.array([[0, 8], [1, 3]])\r\n",
        "A3 = np.array([[0, 8], [8, 0]])\r\n",
        "A4 = np.array([[0, 1], [6, 3]])\r\n",
        "def LTI1(x, t):\r\n",
        "    return A1.dot(x)\r\n",
        "\r\n",
        "def LTI2(x, t):\r\n",
        "    return A2.dot(x)\r\n",
        "\r\n",
        "def LTI3(x, t):\r\n",
        "    return A3.dot(x)\r\n",
        "\r\n",
        "def LTI4(x, t):\r\n",
        "    return A4.dot(x)\r\n",
        "\r\n",
        "time = np.linspace(0, 10, 1000)    # interval from 0 to 10\r\n",
        "x0 = np.random.rand(2)            # initial state\r\n",
        "\r\n",
        "solution1 = odeint(LTI1, x0, time)\r\n",
        "solution2 = odeint(LTI2, x0, time)\r\n",
        "solution3 = odeint(LTI3, x0, time)\r\n",
        "solution4 = odeint(LTI4, x0, time)\r\n",
        "\r\n",
        "plt.plot(time, solution1)\r\n",
        "plt.xlabel('time')\r\n",
        "plt.ylabel('x(t)')\r\n",
        "plt.show()\r\n",
        "\r\n",
        "plt.plot(time, solution2)\r\n",
        "plt.xlabel('time')\r\n",
        "plt.ylabel('x(t)')\r\n",
        "plt.show()\r\n",
        "\r\n",
        "plt.plot(time, solution3)\r\n",
        "plt.xlabel('time')\r\n",
        "plt.ylabel('x(t)')\r\n",
        "plt.show()\r\n",
        "\r\n",
        "plt.plot(time, solution4)\r\n",
        "plt.xlabel('time')\r\n",
        "plt.ylabel('x(t)')\r\n",
        "plt.show()"
      ],
      "execution_count": null,
      "outputs": [
        {
          "output_type": "display_data",
          "data": {
            "image/png": "[encoded data removed]",
            "text/plain": [
              "<Figure size 432x288 with 1 Axes>"
            ]
          },
          "metadata": {
            "tags": [],
            "needs_background": "light"
          }
        },
        {
          "output_type": "display_data",
          "data": {
            "image/png": "[encoded data removed]",
            "text/plain": [
              "<Figure size 432x288 with 1 Axes>"
            ]
          },
          "metadata": {
            "tags": [],
            "needs_background": "light"
          }
        },
        {
          "output_type": "display_data",
          "data": {
            "image/png": "[encoded data removed]",
            "text/plain": [
              "<Figure size 432x288 with 1 Axes>"
            ]
          },
          "metadata": {
            "tags": [],
            "needs_background": "light"
          }
        },
        {
          "output_type": "display_data",
          "data": {
            "image/png": "[encoded data removed]",
            "text/plain": [
              "<Figure size 432x288 with 1 Axes>"
            ]
          },
          "metadata": {
            "tags": [],
            "needs_background": "light"
          }
        }
      ]
    },
    {
      "cell_type": "markdown",
      "metadata": {
        "id": "c197v29psWBy"
      },
      "source": [
        "# As we can see: all of this systems are diverge"
      ]
    }
  ]
}